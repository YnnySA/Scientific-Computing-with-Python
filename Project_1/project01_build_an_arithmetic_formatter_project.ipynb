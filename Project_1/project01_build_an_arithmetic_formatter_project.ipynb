{
 "cells": [
  {
   "cell_type": "markdown",
   "metadata": {},
   "source": [
    "### Build an Arithmetic Formatter Project ###\n",
    "Students in primary school often arrange arithmetic problems vertically to make them easier to solve. For example, \"235 + 52\" becomes:\n",
    "\n",
    "Example Code:"
   ]
  },
  {
   "cell_type": "code",
   "execution_count": null,
   "metadata": {},
   "outputs": [],
   "source": [
    "235\n",
    "+  52\n",
    "-----"
   ]
  },
  {
   "cell_type": "markdown",
   "metadata": {},
   "source": [
    "Finish the arithmetic_arranger function that receives a list of strings which are arithmetic problems, and returns the problems arranged vertically and side-by-side. The function should optionally take a second argument. When the second argument is set to True, the answers should be displayed.\n",
    "\n",
    "Example\n",
    "\n",
    "Function Call:\n",
    "\n",
    "Example Code:"
   ]
  },
  {
   "cell_type": "code",
   "execution_count": null,
   "metadata": {},
   "outputs": [],
   "source": [
    "arithmetic_arranger([\"32 + 698\", \"3801 - 2\", \"45 + 43\", \"123 + 49\"])"
   ]
  },
  {
   "cell_type": "markdown",
   "metadata": {},
   "source": [
    "Output:\n",
    "\n",
    "Example Code:"
   ]
  },
  {
   "cell_type": "code",
   "execution_count": null,
   "metadata": {},
   "outputs": [],
   "source": [
    "32      3801      45      123\n",
    "+ 698    -    2    + 43    +  49\n",
    "-----    ------    ----    -----"
   ]
  },
  {
   "cell_type": "markdown",
   "metadata": {},
   "source": [
    "#### Rules\n",
    "The function will return the correct conversion if the supplied problems are properly formatted, otherwise, it will return a string that describes an error that is meaningful to the user.\n",
    "\n",
    "- Situations that will return an error:\n",
    "- If there are too many problems supplied to the function. The limit is five, anything more will return: 'Error: Too many problems.'\n",
    "- The appropriate operators the function will accept are addition and subtraction. Multiplication and division will return an error. Other operators not mentioned in this bullet point will not need to be tested. The error returned will be: \"Error: Operator must be '+' or '-'.\"\n",
    "- Each number (operand) should only contain digits. Otherwise, the function will return: 'Error: Numbers must only contain digits.'\n",
    "- Each operand (aka number on each side of the operator) has a max of four digits in width. Otherwise, the error string returned will be: 'Error: Numbers cannot be more than four digits.'\n",
    "- If the user supplied the correct format of problems, the conversion you return will follow these rules:\n",
    "- There should be a single space between the operator and the longest of the two operands, the operator will be on the same line as the second operand, both operands will be in the same order as provided (the first will be the top one and the second will be the bottom).\n",
    "- Numbers should be right-aligned.\n",
    "- There should be four spaces between each problem.\n",
    "- There should be dashes at the bottom of each problem. The dashes should run along the entire length of each problem individually. (The example above shows what this should look like.)"
   ]
  },
  {
   "cell_type": "markdown",
   "metadata": {},
   "source": [
    "### Normas\n",
    "La función devolverá la conversión correcta si los problemas proporcionados están formateados correctamente; de ​​lo contrario, devolverá una cadena que describe un error que es significativo para el usuario.\n",
    "\n",
    "Situaciones que devolverán un error:\n",
    "\n",
    "- Si hay demasiados problemas suministrados a la función. El límite es cinco, cualquier cosa más devolverá: \"Error: Demasiados problemas\".\n",
    "- Los operadores apropiados que aceptará la función son suma y resta. La multiplicación y la división devolverán un error. No será necesario realizar pruebas a otros operadores no mencionados en este punto. El error devuelto será: \"Error: el operador debe ser '+' o '-'\".\n",
    "- Cada número (operando) solo debe contener dígitos. De lo contrario, la función devolverá: \"Error: los números solo deben contener dígitos\".\n",
    "- Cada operando (también conocido como número a cada lado del operador) tiene un máximo de cuatro dígitos de ancho. De lo contrario, la cadena de error devuelta será: \"Error: los números no pueden tener más de cuatro dígitos\".\n",
    "- Si el usuario proporcionó el formato correcto de los problemas, la conversión que devuelva seguirá estas reglas:\n",
    "- Debe haber un solo espacio entre el operador y el más largo de los dos operandos, el operador estará en la misma línea que el segundo operando, ambos operandos estarán en el mismo orden proporcionado (el primero será el superior y el el segundo será el de abajo).\n",
    "- Los números deben estar alineados a la derecha.\n",
    "- Debe haber cuatro espacios entre cada problema.\n",
    "- Debería haber guiones al final de cada problema. Los guiones deben recorrer toda la longitud de cada problema individualmente. (El ejemplo anterior muestra cómo debería verse esto).\n",
    "- Nota: abra la consola del navegador con F12 para ver un resultado más detallado de las pruebas."
   ]
  },
  {
   "cell_type": "code",
   "execution_count": 1,
   "metadata": {},
   "outputs": [
    {
     "name": "stdout",
     "output_type": "stream",
     "text": [
      "\n",
      "   32      3801      45      123\n",
      "+ 698       - 2    + 43     + 49\n",
      "-----    ------    ----    -----\n"
     ]
    }
   ],
   "source": [
    "def arithmetic_arranger(problems, show_answers=False):\n",
    "# Listas para almacenar las partes de los problemas\n",
    "    first_line = []\n",
    "    second_line = []\n",
    "    dashes = []\n",
    "    answers = []\n",
    "    \n",
    "    for problem in problems:\n",
    "        # Separar el problema en operandos y operador\n",
    "        num1, operator, num2 = problem.split()\n",
    "        \n",
    "        # Convertir los operandos a enteros para calcular la respuesta\n",
    "        num1_len = len(num1)\n",
    "        num2_len = len(num2)\n",
    "        width = max(num1_len, num2_len) + 2  # Espacio extra para el operador y el espacio\n",
    "\n",
    "        # Agregar a las líneas correspondientes\n",
    "        first_line.append(num1.rjust(width))\n",
    "        second_line.append(f\"{operator} {num2}\".rjust(width))\n",
    "        dashes.append('-' * width)\n",
    "\n",
    "        # Calcular la respuesta si es necesario\n",
    "        if show_answers:\n",
    "            if operator == '+':\n",
    "                result = str(int(num1) + int(num2))\n",
    "            elif operator == '-':\n",
    "                result = str(int(num1) - int(num2))\n",
    "            answers.append(result.rjust(width))\n",
    "\n",
    "    # Combinar las líneas en una sola cadena\n",
    "    arranged_problems = '\\n'.join(['    '.join(line) for line in [first_line, second_line, dashes]])\n",
    "    \n",
    "    if show_answers:\n",
    "        arranged_problems += '\\n' + '    '.join(answers)\n",
    "    \n",
    "    return arranged_problems\n",
    "\n",
    "    return problems\n",
    "\n",
    "print(f'\\n{arithmetic_arranger([\"32 + 698\", \"3801 - 2\", \"45 + 43\", \"123 + 49\"])}')"
   ]
  },
  {
   "cell_type": "markdown",
   "metadata": {},
   "source": [
    "# CODE"
   ]
  },
  {
   "cell_type": "code",
   "execution_count": null,
   "metadata": {},
   "outputs": [],
   "source": [
    "def arithmetic_arranger(problems, show_answers=False):\n",
    "    # Check if there are too many problems (limit is 5)\n",
    "    if len(problems) > 5:\n",
    "        return \"Error: Too many problems.\"\n",
    "        \n",
    "    # Initialize lists to store each line of the formatted output\n",
    "    first_line = []    # Will store the first numbers\n",
    "    second_line = []   # Will store operators and second numbers\n",
    "    dashes = []        # Will store the dashed lines\n",
    "    answers = []       # Will store the calculated results\n",
    "    \n",
    "    # Process each arithmetic problem\n",
    "    for problem in problems:\n",
    "        try:\n",
    "            # Split each problem into components\n",
    "            num1, operator, num2 = problem.split()\n",
    "            \n",
    "            # Validate the operator\n",
    "            if operator not in ['+', '-']:\n",
    "                return \"Error: Operator must be '+' or '-'.\"\n",
    "                \n",
    "            # Validate that numbers only contain digits\n",
    "            if not (num1.isdigit() and num2.isdigit()):\n",
    "                return \"Error: Numbers must only contain digits.\"\n",
    "                \n",
    "            # Check number length (max 4 digits)\n",
    "            if len(num1) > 4 or len(num2) > 4:\n",
    "                return \"Error: Numbers cannot be more than four digits.\"\n",
    "                \n",
    "            # Calculate width for proper alignment\n",
    "            width = max(len(num1), len(num2)) + 2  # +2 for operator and space\n",
    "            \n",
    "            # Format each line with proper alignment\n",
    "            first_line.append(str(num1).rjust(width))\n",
    "            second_line.append(operator + str(num2).rjust(width - 1))\n",
    "            dashes.append('-' * width)\n",
    "            \n",
    "            # Calculate and format answers if required\n",
    "            if show_answers:\n",
    "                if operator == '+':\n",
    "                    ans = str(int(num1) + int(num2))\n",
    "                else:\n",
    "                    ans = str(int(num1) - int(num2))\n",
    "                answers.append(ans.rjust(width))\n",
    "                \n",
    "        except:\n",
    "            return \"Error: Each problem should have exactly 3 parts.\"\n",
    "    \n",
    "    # Combine all parts with proper spacing (4 spaces between problems)\n",
    "    arranged_problems = '    '.join(first_line) + '\\n' + \\\n",
    "                       '    '.join(second_line) + '\\n' + \\\n",
    "                       '    '.join(dashes)\n",
    "                       \n",
    "    # Add answers line if requested\n",
    "    if show_answers:\n",
    "        arranged_problems += '\\n' + '    '.join(answers)\n",
    "        \n",
    "    return arranged_problems\n"
   ]
  },
  {
   "cell_type": "code",
   "execution_count": 14,
   "metadata": {},
   "outputs": [
    {
     "name": "stdout",
     "output_type": "stream",
     "text": [
      "\n",
      "   32      3801      45      123\n",
      "+ 698    -    2    + 43    +  49\n",
      "-----    ------    ----    -----\n"
     ]
    }
   ],
   "source": [
    "print(f'\\n{arithmetic_arranger([\"32 + 698\", \"3801 - 2\", \"45 + 43\", \"123 + 49\"])}')"
   ]
  },
  {
   "cell_type": "markdown",
   "metadata": {},
   "source": [
    "### Tests"
   ]
  },
  {
   "cell_type": "code",
   "execution_count": 4,
   "metadata": {},
   "outputs": [
    {
     "data": {
      "text/plain": [
       "'  3801      123\\n-    2    +  49\\n------    -----'"
      ]
     },
     "execution_count": 4,
     "metadata": {},
     "output_type": "execute_result"
    }
   ],
   "source": [
    "arithmetic_arranger([\"3801 - 2\", \"123 + 49\"])"
   ]
  },
  {
   "cell_type": "code",
   "execution_count": 5,
   "metadata": {},
   "outputs": [
    {
     "data": {
      "text/plain": [
       "'  1         1\\n+ 2    - 9380\\n---    ------'"
      ]
     },
     "execution_count": 5,
     "metadata": {},
     "output_type": "execute_result"
    }
   ],
   "source": [
    "arithmetic_arranger([\"1 + 2\", \"1 - 9380\"])"
   ]
  },
  {
   "cell_type": "code",
   "execution_count": 6,
   "metadata": {},
   "outputs": [
    {
     "data": {
      "text/plain": [
       "'    3      3801      45      123\\n+ 855    -    2    + 43    +  49\\n-----    ------    ----    -----'"
      ]
     },
     "execution_count": 6,
     "metadata": {},
     "output_type": "execute_result"
    }
   ],
   "source": [
    "arithmetic_arranger([\"3 + 855\", \"3801 - 2\", \"45 + 43\", \"123 + 49\"])"
   ]
  },
  {
   "cell_type": "code",
   "execution_count": 7,
   "metadata": {},
   "outputs": [
    {
     "data": {
      "text/plain": [
       "'  11      3801      1      123         1\\n+  4    - 2999    + 2    +  49    - 9380\\n----    ------    ---    -----    ------'"
      ]
     },
     "execution_count": 7,
     "metadata": {},
     "output_type": "execute_result"
    }
   ],
   "source": [
    "arithmetic_arranger([\"11 + 4\", \"3801 - 2999\", \"1 + 2\", \"123 + 49\", \"1 - 9380\"])"
   ]
  },
  {
   "cell_type": "code",
   "execution_count": 8,
   "metadata": {},
   "outputs": [
    {
     "data": {
      "text/plain": [
       "'Error: Too many problems.'"
      ]
     },
     "execution_count": 8,
     "metadata": {},
     "output_type": "execute_result"
    }
   ],
   "source": [
    "arithmetic_arranger([\"44 + 815\", \"909 - 2\", \"45 + 43\", \"123 + 49\", \"888 + 40\", \"653 + 87\"])"
   ]
  },
  {
   "cell_type": "code",
   "execution_count": 9,
   "metadata": {},
   "outputs": [
    {
     "data": {
      "text/plain": [
       "\"Error: Operator must be '+' or '-'.\""
      ]
     },
     "execution_count": 9,
     "metadata": {},
     "output_type": "execute_result"
    }
   ],
   "source": [
    "arithmetic_arranger([\"3 / 855\", \"3801 - 2\", \"45 + 43\", \"123 + 49\"])"
   ]
  },
  {
   "cell_type": "code",
   "execution_count": 10,
   "metadata": {},
   "outputs": [
    {
     "data": {
      "text/plain": [
       "'Error: Numbers cannot be more than four digits.'"
      ]
     },
     "execution_count": 10,
     "metadata": {},
     "output_type": "execute_result"
    }
   ],
   "source": [
    "arithmetic_arranger([\"24 + 85215\", \"3801 - 2\", \"45 + 43\", \"123 + 49\"])"
   ]
  },
  {
   "cell_type": "code",
   "execution_count": 11,
   "metadata": {},
   "outputs": [
    {
     "data": {
      "text/plain": [
       "'Error: Numbers must only contain digits.'"
      ]
     },
     "execution_count": 11,
     "metadata": {},
     "output_type": "execute_result"
    }
   ],
   "source": [
    "arithmetic_arranger([\"98 + 3g5\", \"3801 - 2\", \"45 + 43\", \"123 + 49\"])"
   ]
  },
  {
   "cell_type": "code",
   "execution_count": 12,
   "metadata": {},
   "outputs": [
    {
     "data": {
      "text/plain": [
       "'    3      988\\n+ 855    +  40\\n-----    -----\\n  858     1028'"
      ]
     },
     "execution_count": 12,
     "metadata": {},
     "output_type": "execute_result"
    }
   ],
   "source": [
    "arithmetic_arranger([\"3 + 855\", \"988 + 40\"], True)"
   ]
  },
  {
   "cell_type": "code",
   "execution_count": 13,
   "metadata": {},
   "outputs": [
    {
     "data": {
      "text/plain": [
       "'   32         1      45      123      988\\n- 698    - 3801    + 43    +  49    +  40\\n-----    ------    ----    -----    -----\\n -666     -3800      88      172     1028'"
      ]
     },
     "execution_count": 13,
     "metadata": {},
     "output_type": "execute_result"
    }
   ],
   "source": [
    "arithmetic_arranger([\"32 - 698\", \"1 - 3801\", \"45 + 43\", \"123 + 49\", \"988 + 40\"], True)"
   ]
  }
 ],
 "metadata": {
  "kernelspec": {
   "display_name": "venv_pandas",
   "language": "python",
   "name": "python3"
  },
  "language_info": {
   "codemirror_mode": {
    "name": "ipython",
    "version": 3
   },
   "file_extension": ".py",
   "mimetype": "text/x-python",
   "name": "python",
   "nbconvert_exporter": "python",
   "pygments_lexer": "ipython3",
   "version": "3.12.8"
  }
 },
 "nbformat": 4,
 "nbformat_minor": 2
}
