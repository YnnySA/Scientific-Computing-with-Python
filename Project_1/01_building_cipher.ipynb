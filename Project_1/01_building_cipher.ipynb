{
 "cells": [
  {
   "cell_type": "code",
   "execution_count": null,
   "metadata": {},
   "outputs": [],
   "source": [
    "text = 'Hello World'\n",
    "shift = 3\n",
    "alphabet = 'abcdefghijklmnopqrstuvwxyz'\n",
    "\n",
    "for i in text:\n",
    "    print(i)"
   ]
  },
  {
   "cell_type": "code",
   "execution_count": null,
   "metadata": {},
   "outputs": [],
   "source": [
    "text = 'Hello World'\n",
    "shift = 3\n",
    "alphabet = 'abcdefghijklmnopqrstuvwxyz'\n",
    "\n",
    "for char in text.lower():\n",
    "    index = alphabet.find(char)\n",
    "    print(char, index)\n",
    "    new_index = index + shift\n",
    "    new_char = alphabet[new_index]\n",
    "    print(new_char)"
   ]
  },
  {
   "cell_type": "code",
   "execution_count": null,
   "metadata": {},
   "outputs": [],
   "source": [
    "text = 'Hello World'\n",
    "shift = 3\n",
    "alphabet = 'abcdefghijklmnopqrstuvwxyz'\n",
    "encrypted_text = ''\n",
    "\n",
    "for char in text.lower():\n",
    "    index = alphabet.find(char)    \n",
    "    new_index = index + shift\n",
    "    new_char = alphabet[new_index]\n",
    "    print('char:', char, 'new char:', new_char)"
   ]
  },
  {
   "cell_type": "code",
   "execution_count": null,
   "metadata": {},
   "outputs": [],
   "source": [
    "text = 'Hello World'\n",
    "shift = 3\n",
    "alphabet = 'abcdefghijklmnopqrstuvwxyz'\n",
    "encrypted_text = ''\n",
    "for char in text.lower():\n",
    "    print(char == ' ')\n",
    "    index = alphabet.find(char)\n",
    "    new_index = index + shift\n",
    "    encrypted_text += alphabet[new_index]\n",
    "    print('char:', char, 'encrypted text:', encrypted_text)"
   ]
  },
  {
   "cell_type": "code",
   "execution_count": null,
   "metadata": {},
   "outputs": [],
   "source": [
    "text = 'Hello World'\n",
    "shift = 3\n",
    "alphabet = 'abcdefghijklmnopqrstuvwxyz'\n",
    "encrypted_text = ''\n",
    "\n",
    "for char in text.lower():\n",
    "    if char == ' ':\n",
    "        print('space!')\n",
    "    index = alphabet.find(char)\n",
    "    new_index = index + shift\n",
    "    encrypted_text += alphabet[new_index]\n",
    "    print('char:', char, 'encrypted text:', encrypted_text)"
   ]
  },
  {
   "cell_type": "code",
   "execution_count": null,
   "metadata": {},
   "outputs": [],
   "source": [
    "# Now, instead of printing 'space!', use the addition assignment operator to add the space (currently stored in char) to the current value of encrypted_text.\n",
    "text = 'Hello World'\n",
    "shift = 3\n",
    "alphabet = 'abcdefghijklmnopqrstuvwxyz'\n",
    "encrypted_text = ''\n",
    "\n",
    "for char in text.lower():\n",
    "    if char == ' ':\n",
    "        encrypted_text += char\n",
    "    index = alphabet.find(char)\n",
    "    new_index = index + shift\n",
    "    encrypted_text += alphabet[new_index]\n",
    "    print('char:', char, 'encrypted text:', encrypted_text)"
   ]
  },
  {
   "cell_type": "code",
   "execution_count": null,
   "metadata": {},
   "outputs": [],
   "source": [
    "# Step 43 As you can see in your output, when the loop iterations reach the space, a space is added to the encrypted string. Then the code outside the if block executes and a c is added to the encrypted string. To fix it, add an else clause after encrypted_text += char and indent all the subsequent lines of code except the print() call.\n",
    "text = 'Hello World'\n",
    "shift = 3\n",
    "alphabet = 'abcdefghijklmnopqrstuvwxyz'\n",
    "encrypted_text = ''\n",
    "\n",
    "for char in text.lower():\n",
    "    if char == ' ':\n",
    "        encrypted_text += char\n",
    "    else:\n",
    "        index = alphabet.find(char)\n",
    "        new_index = index + shift\n",
    "        encrypted_text += alphabet[new_index]\n",
    "    print('char:', char, 'encrypted text:', encrypted_text)"
   ]
  },
  {
   "cell_type": "code",
   "execution_count": null,
   "metadata": {},
   "outputs": [],
   "source": [
    "# Step 45 \n",
    "#When the loop reaches the letter Z, the sum index + shift exceeds the last index of the string alphabet. Therefore, alphabet[new_index] is trying to use an invalid index, which causes an IndexError to be thrown.\n",
    "#You can notice that the output in the terminal stops at the space immediately before the Z, the last print before the error is thrown.\n",
    "#In this case, the modulo operator (%) can be used to return the remainder of the division between two numbers. For example: 5 % 2 is equal to 1, because 5 divided by 2 has a quotient of 2 and a remainder of 1.\n",
    "#Surround index + shift with parentheses, and modulo the expression with 26, which is the alphabet length.\n",
    "text = 'Hello Zaira'\n",
    "shift = 3\n",
    "alphabet = 'abcdefghijklmnopqrstuvwxyz'\n",
    "encrypted_text = ''\n",
    "\n",
    "for char in text.lower():\n",
    "    if char == ' ':\n",
    "        encrypted_text += char\n",
    "    else:\n",
    "        index = alphabet.find(char)\n",
    "        new_index = (index + shift)%26\n",
    "        encrypted_text += alphabet[new_index]\n",
    "    print('char:', char, 'encrypted text:', encrypted_text)"
   ]
  },
  {
   "cell_type": "code",
   "execution_count": 5,
   "metadata": {},
   "outputs": [
    {
     "name": "stdout",
     "output_type": "stream",
     "text": [
      "encrypted text: khoor cdlud\n"
     ]
    }
   ],
   "source": [
    "# Step 47\n",
    "#Next, modify your print() call to print 'encrypted text:', encrypted_text and put it outside the for loop, so that the encrypted string is printed one time.\n",
    "text = 'Hello Zaira'\n",
    "shift = 3\n",
    "alphabet = 'abcdefghijklmnopqrstuvwxyz'\n",
    "encrypted_text = ''\n",
    "\n",
    "for char in text.lower():\n",
    "    if char == ' ':\n",
    "        encrypted_text += char\n",
    "    else:\n",
    "        index = alphabet.find(char)\n",
    "        new_index = (index + shift) % len(alphabet)\n",
    "        encrypted_text += alphabet[new_index]\n",
    "print('encrypted text:', encrypted_text)"
   ]
  },
  {
   "cell_type": "code",
   "execution_count": 6,
   "metadata": {},
   "outputs": [
    {
     "name": "stdout",
     "output_type": "stream",
     "text": [
      "plain text: Hello Zaira\n",
      "encrypted text: khoor cdlud\n"
     ]
    }
   ],
   "source": [
    "#Step 48\n",
    "#Right before the print call, add another one and pass 'plain text:', text as the arguments to print(). Use the same indentation.\n",
    "text = 'Hello Zaira'\n",
    "shift = 3\n",
    "alphabet = 'abcdefghijklmnopqrstuvwxyz'\n",
    "encrypted_text = ''\n",
    "\n",
    "for char in text.lower():\n",
    "    if char == ' ':\n",
    "        encrypted_text += char\n",
    "    else:\n",
    "        index = alphabet.find(char)\n",
    "        new_index = (index + shift) % len(alphabet)\n",
    "        encrypted_text += alphabet[new_index]\n",
    "print('plain text:', text)\n",
    "print('encrypted text:', encrypted_text)"
   ]
  },
  {
   "cell_type": "code",
   "execution_count": 7,
   "metadata": {},
   "outputs": [],
   "source": [
    "# Step 49\n",
    "#A function is essentially a reusable block of code. You have already met some built-in functions, like print(), find() and len(). But you can also define custom functions like this:\n",
    "# Example Code\n",
    "    #def function_name():\n",
    "        #<code>\n",
    "#A function declaration starts with the def keyword followed by the function name — a valid variable name — and a pair of parentheses. The declaration ends with a colon.\n",
    "\n",
    "#Right after your shift variable, declare a function called caesar and indent all the following lines to give your new function a body.\n",
    "text = 'Hello Zaira'\n",
    "shift = 3\n",
    "\n",
    "def caesar():\n",
    "    alphabet = 'abcdefghijklmnopqrstuvwxyz'\n",
    "    encrypted_text = ''\n",
    "\n",
    "    for char in text.lower():\n",
    "        if char == ' ':\n",
    "            encrypted_text += char\n",
    "        else:\n",
    "            index = alphabet.find(char)\n",
    "            new_index = (index + shift) % len(alphabet)\n",
    "            encrypted_text += alphabet[new_index]\n",
    "    print('plain text:', text)\n",
    "    print('encrypted text:', encrypted_text)\n",
    "    \n"
   ]
  },
  {
   "cell_type": "code",
   "execution_count": 8,
   "metadata": {},
   "outputs": [
    {
     "name": "stdout",
     "output_type": "stream",
     "text": [
      "abcdefghijklmnopqrstuvwxyz\n"
     ]
    }
   ],
   "source": [
    "#Step 50\n",
    "#In Python, the scope of a variable determines where that variable can be accessed:\n",
    "\n",
    "#Variables defined outside a function have a global scope and they can be accessed from any part of your code.\n",
    "\n",
    "#Variables defined inside a function are local to that function and cannot be accessed outside of it.\n",
    "\n",
    "#To see this in action, try to print the alphabet variable at the end of your code. This will raise a NameError exception.\n",
    "\n",
    "#You should see an error message indicating that alphabet is not defined. This is because alphabet is defined inside the caesar function and is not accessible outside of it.#\n"
   ]
  },
  {
   "cell_type": "code",
   "execution_count": 9,
   "metadata": {},
   "outputs": [
    {
     "ename": "NameError",
     "evalue": "name 'mesage' is not defined",
     "output_type": "error",
     "traceback": [
      "\u001b[1;31m---------------------------------------------------------------------------\u001b[0m",
      "\u001b[1;31mNameError\u001b[0m                                 Traceback (most recent call last)",
      "Cell \u001b[1;32mIn[9], line 29\u001b[0m\n\u001b[0;32m     27\u001b[0m     \u001b[38;5;28mprint\u001b[39m(\u001b[38;5;124m'\u001b[39m\u001b[38;5;124mplain text:\u001b[39m\u001b[38;5;124m'\u001b[39m, text)\n\u001b[0;32m     28\u001b[0m     \u001b[38;5;28mprint\u001b[39m(\u001b[38;5;124m'\u001b[39m\u001b[38;5;124mencrypted text:\u001b[39m\u001b[38;5;124m'\u001b[39m, encrypted_text)\n\u001b[1;32m---> 29\u001b[0m caesar(\u001b[43mmesage\u001b[49m, offset)\n",
      "\u001b[1;31mNameError\u001b[0m: name 'mesage' is not defined"
     ]
    }
   ],
   "source": [
    "#Step 53\n",
    "#Now you should see the output again. Although this approach works, it doesn't significantly enhance the code's reusability. Repeatedly calling your function will result in the same outcome. However, functions can be declared with parameters to introduce versatility and customization:\n",
    "\n",
    "#Example Code\n",
    "#def function_name(param_1, param_2):\n",
    "#    <code>\n",
    "#Parameters are variables that you can use inside your function. A function can be declared with different number of parameters. In the example above, param_1 and param_2 are parameters.\n",
    "\n",
    "# Modify your function declaration so that it takes two parameters called message and offset.\n",
    "\n",
    "#After that, you'll see an error appear in the terminal. You'll see how to solve it in the next steps.\n",
    "\n",
    "text = 'Hello Zaira'\n",
    "shift = 3\n",
    "\n",
    "def caesar():\n",
    "    alphabet = 'abcdefghijklmnopqrstuvwxyz'\n",
    "    encrypted_text = ''\n",
    "\n",
    "    for char in text.lower():\n",
    "        if char == ' ':\n",
    "            encrypted_text += char\n",
    "        else:\n",
    "            index = alphabet.find(char)\n",
    "            new_index = (index + shift) % len(alphabet)\n",
    "            encrypted_text += alphabet[new_index]\n",
    "    print('plain text:', text)\n",
    "    print('encrypted text:', encrypted_text)\n",
    "caesar(mesage, offset)"
   ]
  },
  {
   "cell_type": "code",
   "execution_count": 1,
   "metadata": {},
   "outputs": [],
   "source": [
    "# Step 54\n",
    "#Inside your function body, rename the text and shift variables to message and offset, respectively.\n",
    "def caesar(message, offset):\n",
    "    alphabet = 'abcdefghijklmnopqrstuvwxyz'\n",
    "    encrypted_text = ''\n",
    "\n",
    "    for char in message.lower():\n",
    "        if char == ' ':\n",
    "            encrypted_text += char\n",
    "        else:\n",
    "            index = alphabet.find(char)\n",
    "            new_index = (index + offset) % len(alphabet)\n",
    "            encrypted_text += alphabet[new_index]\n",
    "    print('plain text:', message)\n",
    "    print('encrypted text:', encrypted_text)\n"
   ]
  },
  {
   "cell_type": "code",
   "execution_count": 2,
   "metadata": {},
   "outputs": [
    {
     "name": "stdout",
     "output_type": "stream",
     "text": [
      "plain text: Hello Zaira\n",
      "encrypted text: khoor cdlud\n",
      "plain text: Hello Zaira\n",
      "encrypted text: uryyb mnven\n"
     ]
    }
   ],
   "source": [
    "text = 'Hello Zaira'\n",
    "shift = 3\n",
    "\n",
    "def caesar(message, offset):\n",
    "    alphabet = 'abcdefghijklmnopqrstuvwxyz'\n",
    "    encrypted_text = ''\n",
    "\n",
    "    for char in message.lower():\n",
    "        if char == ' ':\n",
    "            encrypted_text += char\n",
    "        else:\n",
    "            index = alphabet.find(char)\n",
    "            new_index = (index + offset) % len(alphabet)\n",
    "            encrypted_text += alphabet[new_index]\n",
    "    print('plain text:', message)\n",
    "    print('encrypted text:', encrypted_text)\n",
    "\n",
    "caesar(text, shift)\n",
    "caesar(text, 13)"
   ]
  },
  {
   "cell_type": "code",
   "execution_count": null,
   "metadata": {},
   "outputs": [],
   "source": [
    "# Step 57\n",
    "#Currently, every single letter is always encrypted with the same letter, depending on the specified offset. What if the offset were different for each letter? That would be much more difficult to decrypt. This algorithm is referred to as the Vigenère cipher, where the offset for each letter is determined by another text, called the key.\n",
    "\n",
    "#Start transforming your Caesar cipher into a Vigenère cipher by removing the two function calls.\n",
    "#Step 58\n",
    "#Now modify your function declaration: change the function name into vigenere and the second parameter into key.\n"
   ]
  },
  {
   "cell_type": "code",
   "execution_count": 4,
   "metadata": {},
   "outputs": [],
   "source": [
    "#Step 62\n",
    "#Next, inside the else block, declare a variable called key_char and assign it the value of key at the index key_index mod(%) the length of key.\n",
    "# Step 63\n",
    "#You will need to increase the key_index count for the next iteration. To do this, after the line you just added and in the same code block, use the addition assignment operator to increment key_index by one.\n",
    "text = 'Hello Zaira'\n",
    "custom_key = 'python'\n",
    "\n",
    "def vigenere(message, key):\n",
    "    key_index = 0\n",
    "    alphabet = 'abcdefghijklmnopqrstuvwxyz'\n",
    "    encrypted_text = ''\n",
    "\n",
    "    for char in message.lower():\n",
    "         # Append space to the message\n",
    "        if char == ' ':\n",
    "            encrypted_text += char\n",
    "        else:\n",
    "            key_char = key[key_index % len(key)] # Step 62\n",
    "            key_index += 1                       # Step 63\n",
    "            index = alphabet.find(char)\n",
    "            new_index = (index + offset) % len(alphabet)\n",
    "            encrypted_text += alphabet[new_index]\n",
    "    print('plain text:', message)\n",
    "    print('encrypted text:', encrypted_text)\n"
   ]
  },
  {
   "cell_type": "code",
   "execution_count": 6,
   "metadata": {},
   "outputs": [],
   "source": [
    "# Step 67\n",
    "#At the moment, your function prints some strings, but these values cannot be used by other parts of code to perform any actions.\n",
    "#For that purpose, you need to use a return statement:\n",
    "#You need to write return followed by a space and the value that the function should return. Once the return statement is found, that value is returned and the execution of the function stops, proceeding to the next line of code after the function call. In the example above, the foo function returns the string 'spam'.\n",
    "#Remove the two print() calls from your function and return encrypted_text.\n",
    "# Step 68\n",
    "#Call your function passing text and custom_key as the arguments. Store the return value of the function call in a variable called encryption.\n",
    "#All you need to do is multiply the offset by the direction in the new_index assignment. The multiplication operator in Python is *.\n",
    "text = 'Hello Zaira'\n",
    "custom_key = 'python'\n",
    "\n",
    "def vigenere(message, key, direction):\n",
    "    key_index = 0\n",
    "    alphabet = 'abcdefghijklmnopqrstuvwxyz'\n",
    "    encrypted_text = ''\n",
    "\n",
    "    for char in message.lower():\n",
    "         # Append space to the message\n",
    "        if char == ' ':\n",
    "            encrypted_text += char\n",
    "        else:\n",
    "            key_char = key[key_index % len(key)] # Step 62\n",
    "            key_index += 1                       # Step 63\n",
    "            # Define the offset and the encrypted letter\n",
    "            offset = alphabet.index(key_char)\n",
    "            index = alphabet.find(char)\n",
    "            new_index = (index + offset*direction) % len(alphabet)\n",
    "            encrypted_text += alphabet[new_index]\n",
    "    return encrypted_text\n",
    "#encryption = vigenere(text, custom_key)\n",
    "#print(encryption)"
   ]
  },
  {
   "cell_type": "code",
   "execution_count": 7,
   "metadata": {},
   "outputs": [
    {
     "name": "stdout",
     "output_type": "stream",
     "text": [
      "wcesc mpgkh\n"
     ]
    }
   ],
   "source": [
    "#Step 72\n",
    "#Now you can uncomment the last two lines and modify your function call passing 1 as the third argument.#\n",
    "\n",
    "text = 'Hello Zaira'\n",
    "custom_key = 'python'\n",
    "\n",
    "def vigenere(message, key, direction):\n",
    "    key_index = 0\n",
    "    alphabet = 'abcdefghijklmnopqrstuvwxyz'\n",
    "    encrypted_text = ''\n",
    "\n",
    "    for char in message.lower():\n",
    "         # Append space to the message\n",
    "        if char == ' ':\n",
    "            encrypted_text += char\n",
    "        else:\n",
    "            key_char = key[key_index % len(key)] # Step 62\n",
    "            key_index += 1                       # Step 63\n",
    "            # Define the offset and the encrypted letter\n",
    "            offset = alphabet.index(key_char)\n",
    "            index = alphabet.find(char)\n",
    "            new_index = (index + offset*direction) % len(alphabet)\n",
    "            encrypted_text += alphabet[new_index]\n",
    "    return encrypted_text\n",
    "encryption = vigenere(text, custom_key, 1)\n",
    "print(encryption)\n",
    "decryption = vigenere(encryption, custom_key, -1)\n",
    "print(decryption)"
   ]
  },
  {
   "cell_type": "code",
   "execution_count": null,
   "metadata": {},
   "outputs": [],
   "source": [
    "# Change each occurrence of encrypted_text into final_message.\n",
    "text = 'Hello Zaira'\n",
    "custom_key = 'python'\n",
    "\n",
    "def vigenere(message, key, direction):\n",
    "    key_index = 0\n",
    "    alphabet = 'abcdefghijklmnopqrstuvwxyz'\n",
    "    final_message = ''\n",
    "\n",
    "    for char in message.lower():\n",
    "         # Append space to the message\n",
    "        if char == ' ':\n",
    "            final_message += char\n",
    "        else:\n",
    "            key_char = key[key_index % len(key)]\n",
    "            key_index += 1\n",
    "            # Define the offset and the encrypted letter\n",
    "            offset = alphabet.index(key_char)\n",
    "            index = alphabet.find(char)\n",
    "            new_index = (index + offset*direction) % len(alphabet)\n",
    "            final_message += alphabet[new_index]\n",
    "    return final_message\n",
    "\n",
    "encryption = vigenere(text, custom_key, 1)\n",
    "print(encryption)\n",
    "decryption = vigenere(encryption, custom_key, -1)\n",
    "print(decryption)"
   ]
  },
  {
   "cell_type": "code",
   "execution_count": 10,
   "metadata": {},
   "outputs": [
    {
     "name": "stdout",
     "output_type": "stream",
     "text": [
      "wcesc mpgkh!\n",
      "hello zaira!\n"
     ]
    }
   ],
   "source": [
    "#Step 80\n",
    "#The .isalpha() method returns True if all of the characters of the string on which it is called are letters. For example, the code below returns True:\n",
    "\n",
    "#Example Code\n",
    "#'freeCodeCamp'.isalpha()\n",
    "# True\n",
    "# Delete the condition char == ' ' and replace it by calling the .isalpha() method on char.\n",
    "#Step 81\n",
    "#The not operator is used to negate an expression. When placed before a truthy value — a value that evaluates to True — it returns False and vice versa.\n",
    "\n",
    "# Add the not operator at the beginning of the if condition to check if the character is not alphabetic.\n",
    "# Step 83\n",
    "#The pass keyword can be used as a placeholder for future code. It does not have any effect in your code but it can save you from errors you would get in case of incomplete code:\n",
    "# Example Code\n",
    "#def foo():\n",
    "    #pass\n",
    "\n",
    "#Calling vigenere with 1 to encrypt and -1 to decrypt is fine but it might be a little bit cryptic. Create a new function called encrypt that takes message and key parameters, and use pass to fill the function body.\n",
    "text = 'Hello Zaira!'\n",
    "custom_key = 'python'\n",
    "\n",
    "def vigenere(message, key, direction=1):\n",
    "    key_index = 0\n",
    "    alphabet = 'abcdefghijklmnopqrstuvwxyz'\n",
    "    final_message = ''\n",
    "\n",
    "    for char in message.lower():\n",
    "\n",
    "        # Append any non-letter character to the message\n",
    "        if not char.isalpha():\n",
    "            final_message += char\n",
    "        else:        \n",
    "            # Find the right key character to encode/decode\n",
    "            key_char = key[key_index % len(key)]\n",
    "            key_index += 1\n",
    "\n",
    "            # Define the offset and the encrypted/decrypted letter\n",
    "            offset = alphabet.index(key_char)\n",
    "            index = alphabet.find(char)\n",
    "            new_index = (index + offset*direction) % len(alphabet)\n",
    "            final_message += alphabet[new_index]\n",
    "    \n",
    "    return final_message\n",
    "\n",
    "\n",
    "def encrypt(message, key):\n",
    "    pass\n",
    "encryption = vigenere(text, custom_key)\n",
    "print(encryption)\n",
    "decryption = vigenere(encryption, custom_key, -1)\n",
    "print(decryption)"
   ]
  },
  {
   "cell_type": "code",
   "execution_count": 13,
   "metadata": {},
   "outputs": [
    {
     "name": "stdout",
     "output_type": "stream",
     "text": [
      "wcesc mpgkh!\n",
      "hello zaira!\n"
     ]
    }
   ],
   "source": [
    "# Step 84\n",
    "#Delete the pass keyword, and return vigenere(message, key) from your new function.\n",
    "text = 'Hello Zaira!'\n",
    "custom_key = 'python'\n",
    "\n",
    "def vigenere(message, key, direction=1):\n",
    "    key_index = 0\n",
    "    alphabet = 'abcdefghijklmnopqrstuvwxyz'\n",
    "    final_message = ''\n",
    "\n",
    "    for char in message.lower():\n",
    "\n",
    "        # Append any non-letter character to the message\n",
    "        if not char.isalpha():\n",
    "            final_message += char\n",
    "        else:        \n",
    "            # Find the right key character to encode/decode\n",
    "            key_char = key[key_index % len(key)]\n",
    "            key_index += 1\n",
    "\n",
    "            # Define the offset and the encrypted/decrypted letter\n",
    "            offset = alphabet.index(key_char)\n",
    "            index = alphabet.find(char)\n",
    "            new_index = (index + offset*direction) % len(alphabet)\n",
    "            final_message += alphabet[new_index]\n",
    "    \n",
    "    return final_message\n",
    "\n",
    "\n",
    "def encrypt(message, key):\n",
    "    return vigenere(message, key)\n",
    "def decrypt(message, key):\n",
    "    return vigenere(message, key, -1)\n",
    "encryption = vigenere(text, custom_key)\n",
    "print(encryption)\n",
    "decryption = vigenere(encryption, custom_key, -1)\n",
    "print(decryption)"
   ]
  },
  {
   "cell_type": "markdown",
   "metadata": {},
   "source": [
    "# Completed"
   ]
  },
  {
   "cell_type": "code",
   "execution_count": 1,
   "metadata": {},
   "outputs": [
    {
     "name": "stdout",
     "output_type": "stream",
     "text": [
      "\n",
      "Encrypted text: mrttaqrhknsw ih puggrur\n",
      "Key: happycoding\n",
      "\n",
      "Decrypted text: freecodecamp is awesome\n",
      "\n"
     ]
    }
   ],
   "source": [
    "#Step 91\n",
    "#In Python, there's a way to easily format strings. f-strings enable you to interpolate values in your strings.\n",
    "\n",
    "#Interpolation means writing placeholders that will be replaced by the specified values when the program runs. For example, you can get the same result of 'Encrypted text: ' + text with f'Encrypted text: {text}'. You need to put an f before the quotes to create the f-string and write the variables or expressions you want to interpolate between curly braces.\n",
    "\n",
    "#Modify the first print() call to use an f-string.\n",
    "\n",
    "#Step 93\n",
    "#The newline character \\n is a special sequence used to represent a new line. You can write a backslash \\ followed by an n as a normal sequence of characters in a string and it will be replaced by a new line in the output when the program runs.\n",
    "\n",
    "#Put a newline character at the beginning of your first print call and see the output.\n",
    "\n",
    "text = 'mrttaqrhknsw ih puggrur'\n",
    "custom_key = 'happycoding'\n",
    "\n",
    "def vigenere(message, key, direction=1):\n",
    "    key_index = 0\n",
    "    alphabet = 'abcdefghijklmnopqrstuvwxyz'\n",
    "    final_message = ''\n",
    "\n",
    "    for char in message.lower():\n",
    "\n",
    "        # Append any non-letter character to the message\n",
    "        if not char.isalpha():\n",
    "            final_message += char\n",
    "        else:        \n",
    "            # Find the right key character to encode/decode\n",
    "            key_char = key[key_index % len(key)]\n",
    "            key_index += 1\n",
    "\n",
    "            # Define the offset and the encrypted/decrypted letter\n",
    "            offset = alphabet.index(key_char)\n",
    "            index = alphabet.find(char)\n",
    "            new_index = (index + offset*direction) % len(alphabet)\n",
    "            final_message += alphabet[new_index]\n",
    "    \n",
    "    return final_message\n",
    "\n",
    "def encrypt(message, key):\n",
    "    return vigenere(message, key)\n",
    "    \n",
    "def decrypt(message, key):\n",
    "    return vigenere(message, key, -1)\n",
    "\n",
    "print(f'\\nEncrypted text: {text}')\n",
    "print(f'Key: {custom_key}')\n",
    "decryption = decrypt(text, custom_key)\n",
    "print(f'\\nDecrypted text: {decryption}\\n')"
   ]
  }
 ],
 "metadata": {
  "kernelspec": {
   "display_name": "venv_pandas",
   "language": "python",
   "name": "python3"
  },
  "language_info": {
   "codemirror_mode": {
    "name": "ipython",
    "version": 3
   },
   "file_extension": ".py",
   "mimetype": "text/x-python",
   "name": "python",
   "nbconvert_exporter": "python",
   "pygments_lexer": "ipython3",
   "version": "3.12.8"
  }
 },
 "nbformat": 4,
 "nbformat_minor": 2
}
