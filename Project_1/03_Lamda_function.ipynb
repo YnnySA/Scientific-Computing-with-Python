{
 "cells": [
  {
   "cell_type": "markdown",
   "metadata": {},
   "source": [
    "### Step 1\n",
    "Before starting with the project, you are going to learn about lists.\n",
    "\n",
    "Unlike numbers and strings, a list is a data type that works as a container for other values:"
   ]
  },
  {
   "cell_type": "code",
   "execution_count": 1,
   "metadata": {},
   "outputs": [],
   "source": [
    "# Example Code\n",
    "example_list = [1, 2, 3, 4]\n",
    "empty_list = []"
   ]
  },
  {
   "cell_type": "markdown",
   "metadata": {},
   "source": [
    "The list is characterized by the square brackets around all the values, and a comma between the values, like: [\"A\", \"happy\", \"list\"]. If the list does not contain any values, then it is an empty list: [].\n",
    "\n",
    "A list can contain different data types: [1, \"Up\", [\"Down\", \"Twice\"]]. That includes all possible data types. It can also contain another list!\n",
    "\n",
    "Create a variable called my_list and assign to it an empty list."
   ]
  },
  {
   "cell_type": "markdown",
   "metadata": {},
   "source": [
    "You can add an item to the end of a list using the append() method. For example:"
   ]
  },
  {
   "cell_type": "code",
   "execution_count": 2,
   "metadata": {},
   "outputs": [],
   "source": [
    "# Example Code\n",
    "example_list = [4, 5, 6]\n",
    "\n",
    "example_list.append(7)\n",
    "# example_list now is [4, 5, 6, 7]."
   ]
  },
  {
   "cell_type": "markdown",
   "metadata": {},
   "source": [
    "You can also access a single element to get its value.\n",
    "\n",
    "Lists are zero-indexed like strings are. That means that the first element is at index 0, the second element is at index 1 and so on.\n",
    "\n",
    "To access an element you use bracket notation. For example, example_list[1] is accessing the element at index 1, the second element, of example_list.\n",
    "\n",
    "Python lists are mutable which means that the value of the list items can be changed. You can change the value of an element using the bracket notation.\n",
    "\n",
    "Example Code"
   ]
  },
  {
   "cell_type": "code",
   "execution_count": 5,
   "metadata": {},
   "outputs": [],
   "source": [
    "example_list = [4, 5, 6, 7]\n",
    "example_list[1] = 'oh'"
   ]
  },
  {
   "cell_type": "markdown",
   "metadata": {},
   "source": [
    "The insert method can add an element at any position in a list. The first argument is the position at which the element has to be added, and the second argument is the element to add. For example, here's how to add a new element in the third position of example_list:"
   ]
  },
  {
   "cell_type": "code",
   "execution_count": 6,
   "metadata": {},
   "outputs": [
    {
     "name": "stdout",
     "output_type": "stream",
     "text": [
      "[4, 5, 5.5, 6, 7]\n"
     ]
    }
   ],
   "source": [
    "example_list = [4, 5, 6, 7]\n",
    "\n",
    "example_list.insert(2, 5.5)\n",
    "\n",
    "print(example_list) # [4, 5, 5.5, 6, 7]"
   ]
  },
  {
   "cell_type": "markdown",
   "metadata": {},
   "source": [
    "The pop() method can be used to remove an element from a list. By default, it removes the last element of the list. You can pass an index as the argument to the method, and it will remove the element at the given index."
   ]
  },
  {
   "cell_type": "code",
   "execution_count": 8,
   "metadata": {},
   "outputs": [
    {
     "name": "stdout",
     "output_type": "stream",
     "text": [
      "['cherry', 'lemon', 'apple', 'orange']\n"
     ]
    }
   ],
   "source": [
    "fruits_list = [\"cherry\", \"lemon\", \"tomato\", \"apple\", \"orange\"]\n",
    "\n",
    "fruits_list.pop(2)\n",
    "\n",
    "print(fruits_list) # [\"cherry\", \"lemon\", \"apple\", \"orange\"]"
   ]
  },
  {
   "cell_type": "markdown",
   "metadata": {},
   "source": [
    "In this case, fruits_list.pop(2) removes the element at index 2 of the list."
   ]
  },
  {
   "cell_type": "markdown",
   "metadata": {},
   "source": [
    "### Step 9\n",
    "In this project, you're going to build a simple, yet functional expense tracker in Python.\n",
    "\n",
    "Start by defining a function named add_expense that takes three parameters: expenses, amount and category. Use the pass keyword to fill the function body."
   ]
  },
  {
   "cell_type": "markdown",
   "metadata": {},
   "source": [
    "### Step 12\n",
    "A dictionary is another built-in data type in Python. A dictionary is a collection of data in the form of key-value pairs. Dictionaries are defined with curly braces ({}) and they contain key-value pairs separated by commas. Each key is followed by a colon (:) and the value:"
   ]
  },
  {
   "cell_type": "code",
   "execution_count": 10,
   "metadata": {},
   "outputs": [
    {
     "data": {
      "text/plain": [
       "{'amount': 50.0, 'category': 'Food'}"
      ]
     },
     "execution_count": 10,
     "metadata": {},
     "output_type": "execute_result"
    }
   ],
   "source": [
    "{'amount': 50.0, 'category': 'Food'}\n",
    "# n the example above, 'amount' and 'category' are keys, and 50.0 and 'Food' are their corresponding values."
   ]
  },
  {
   "cell_type": "markdown",
   "metadata": {},
   "source": [
    "In Python, an important thing to know is that the same type of quote used to define a string cannot be used inside it. For example, the string 'I'm a string!' is not valid. To use the single quote inside that string you should either:\n",
    "\n",
    "Escape the quote by prepending a backlash to it: 'I\\'m a string!'\n",
    "Or use double quotes to define the string: \"I'm a string!\" (preferred).\n",
    "You can access values in a dictionary through its keys. You need to use bracket notation and include the key between the square brackets:"
   ]
  },
  {
   "cell_type": "code",
   "execution_count": 11,
   "metadata": {},
   "outputs": [
    {
     "data": {
      "text/plain": [
       "50.0"
      ]
     },
     "execution_count": 11,
     "metadata": {},
     "output_type": "execute_result"
    }
   ],
   "source": [
    "my_dict = {'amount': 50.0, 'category': 'Food'}\n",
    "my_dict['amount'] # 50.0"
   ]
  },
  {
   "cell_type": "markdown",
   "metadata": {},
   "source": [
    "You are currently interpolating the expense dictionary in your f-string. Modify the f-string expression to access the value of the 'amount' key and the 'category' key in the expense dictionary."
   ]
  },
  {
   "cell_type": "code",
   "execution_count": 12,
   "metadata": {},
   "outputs": [],
   "source": [
    "def add_expense(expenses, amount, category):\n",
    "    expenses.append({'amount': amount, 'category': category})\n",
    "\n",
    "def print_expenses(expenses):\n",
    "    for expense in expenses:\n",
    "        print(f'Amount: {expense[\"amount\"]}, Category: {expense[\"category\"]}')\n",
    "\n",
    "def total_expenses(expenses):\n",
    "    pass\n",
    "\n"
   ]
  },
  {
   "cell_type": "markdown",
   "metadata": {},
   "source": [
    "# Step 27\n",
    "Finally, pass your map() call to the sum() function to obtain the total expenses and return the result."
   ]
  },
  {
   "cell_type": "code",
   "execution_count": null,
   "metadata": {},
   "outputs": [],
   "source": [
    "def add_expense(expenses, amount, category):\n",
    "    expenses.append({'amount': amount, 'category': category})\n",
    "\n",
    "def print_expenses(expenses):\n",
    "    for expense in expenses:\n",
    "        print(f'Amount: {expense[\"amount\"]}, Category: {expense[\"category\"]}')\n",
    "\n",
    "def total_expenses(expenses):\n",
    "    pass\n",
    "\n"
   ]
  },
  {
   "cell_type": "code",
   "execution_count": null,
   "metadata": {},
   "outputs": [],
   "source": [
    "## To get the total expenses, we can modify the total_expenses function to use map() with a lambda function to extract the amounts, and then sum them up. Here's how to implement it:\n",
    "def total_expenses(expenses):\n",
    "    return sum(map(lambda expense: expense['amount'], expenses))\n",
    "\"\"\"\n",
    "This solution:\n",
    "\n",
    "1.-Uses map() with a lambda function to extract just the 'amount' values from each expense dictionary\n",
    "2.-Passes the mapped values directly to sum() to calculate the total\n",
    "3.-Returns the final sum of all expenses\n",
    "\n",
    "The lambda function elegantly handles accessing each expense dictionary's amount value, while map transforms the entire expenses list, and sum gives us our desired total.\n",
    "\"\"\"\n"
   ]
  },
  {
   "cell_type": "markdown",
   "metadata": {},
   "source": [
    "## Step 28\n",
    "Next, define a function named filter_expenses_by_category that takes two parameters: expenses and category. Use pass to fill the function body."
   ]
  },
  {
   "cell_type": "code",
   "execution_count": 1,
   "metadata": {},
   "outputs": [],
   "source": [
    "def filter_expenses_by_category(expenses, category):\n",
    "    pass"
   ]
  },
  {
   "cell_type": "markdown",
   "metadata": {},
   "source": [
    "# Step 29\n",
    "Within the filter_expenses_by_category function, replace pass with a lambda function. Use expense as the parameter and evaluate the comparison between the value of the 'category' key of the expense dictionary and category using the equality operator."
   ]
  },
  {
   "cell_type": "code",
   "execution_count": 2,
   "metadata": {},
   "outputs": [],
   "source": [
    "def filter_expenses_by_category(expenses, category):\n",
    "    lambda expense: expense['category']==category"
   ]
  },
  {
   "cell_type": "markdown",
   "metadata": {},
   "source": [
    "# Step 30\n",
    "The filter() function allows you to select items from an iterable, such as a list, based on the output of a function:"
   ]
  },
  {
   "cell_type": "code",
   "execution_count": null,
   "metadata": {},
   "outputs": [],
   "source": [
    "filter(my_function, my_list)\n",
    "\"\"\"\n",
    "filter() takes a function as its first argument and an iterable as its second argument. It returns an iterator, which is a special object that enables you to iterate over the elements of a collection, like a list.\n",
    "\n",
    "The result of the example above is an iterator containing the elements of my_list for which my_function returns True.\n",
    "\n",
    "Within the filter_expenses_by_category function, call filter() passing the lambda function you wrote in the previous step as the first argument and the expenses list as the second argument.\n",
    "\n",
    "filter() toma una función como su primer argumento y un iterable como su segundo argumento. Devuelve un iterador, que es un objeto especial que le permite iterar sobre los elementos de una colección, como una lista.\n",
    "\n",
    "El resultado del ejemplo anterior es un iterador que contiene los elementos de my_list para los cuales my_function devuelve True.\n",
    "\n",
    "Dentro de la función filter_expenses_by_category, llame a filter() pasando la función lambda que escribió en el paso anterior como el primer argumento y la lista de gastos como el segundo argumento.\n",
    "\"\"\"\n"
   ]
  },
  {
   "cell_type": "code",
   "execution_count": 4,
   "metadata": {},
   "outputs": [],
   "source": [
    "def filter_expenses_by_category(expenses, category):\n",
    "    filter(lambda expense: expense['category'] == category, expenses)"
   ]
  },
  {
   "cell_type": "markdown",
   "metadata": {},
   "source": [
    "### Step 31\n",
    "Finally, return the result of the filter() call."
   ]
  },
  {
   "cell_type": "code",
   "execution_count": 5,
   "metadata": {},
   "outputs": [],
   "source": [
    "def filter_expenses_by_category(expenses, category):\n",
    "    return(filter(lambda expense: expense['category'] == category, expenses))"
   ]
  },
  {
   "cell_type": "markdown",
   "metadata": {},
   "source": [
    "### Step 32\n",
    "The next step is to define the main function, which will be the entry point of the interactive expense tracker program.\n",
    "\n",
    "Define a function named main without parameters. Fill the function body with the expenses list you created at the beginning of this project. You will use this list to store the expense records."
   ]
  },
  {
   "cell_type": "code",
   "execution_count": 8,
   "metadata": {},
   "outputs": [],
   "source": [
    "def main():\n",
    "    expenses = []\n",
    "    "
   ]
  },
  {
   "cell_type": "markdown",
   "metadata": {},
   "source": [
    "### Step 33\n",
    "A while loop is another kind of loop that runs a portion of code as long as a specified condition is True. The loop terminates when the condition becomes False:"
   ]
  },
  {
   "cell_type": "code",
   "execution_count": null,
   "metadata": {},
   "outputs": [],
   "source": [
    "while condition:\n",
    "    <code>"
   ]
  },
  {
   "cell_type": "markdown",
   "metadata": {},
   "source": [
    "Below the expenses list, create a while loop. Use True for the condition, and print the string '\\nExpense Tracker' inside the loop body to show the title of the program."
   ]
  },
  {
   "cell_type": "code",
   "execution_count": 9,
   "metadata": {},
   "outputs": [],
   "source": [
    "def main():\n",
    "    expenses = []\n",
    "    while True:\n",
    "        print('\\nExpense Tracker')"
   ]
  },
  {
   "cell_type": "markdown",
   "metadata": {},
   "source": [
    "# Step 37\n",
    "The input() function takes a user input and it returns the user input in the form of a string.\n",
    "\n",
    "Inside your while loop, call the input() function passing the string 'Enter your choice: ' as the argument, and assign the result to a variable named choice."
   ]
  },
  {
   "cell_type": "code",
   "execution_count": 3,
   "metadata": {},
   "outputs": [],
   "source": [
    "def main():\n",
    "    expenses = []\n",
    "    while True:\n",
    "        print('\\nExpense Tracker')\n",
    "        print('1. Add an expense')\n",
    "        print('2. List all expenses')\n",
    "        print('3. Show total expenses')\n",
    "        print('4. Filter expenses by category')\n",
    "        print('5. Exit')\n",
    "        choice = input('Enter your choice: ')\n",
    "# Still in the while loop, under the choice variable, write an if statement to check if choice equals the string '1'. If it's true, it will be the starting point for adding a new expense. Inside the if statement body, declare a variable amount and assign it an empty input() call.\n",
    "# Pass the string 'Enter amount: ' to your empty input() call, so you can store the expense.\n",
    "        if choice == '1':\n",
    "            amount = input('Enter amount: ')\n",
    "            category = input('Enter category: ')\n",
    "\n",
    "        "
   ]
  },
  {
   "cell_type": "markdown",
   "metadata": {},
   "source": [
    "# Step 42\n",
    "Once you have the expense details, you need to call the add_expense function to add the new expense to the expenses list.\n",
    "\n",
    "After getting the amount and category using input(), call the add_expense function, passing three arguments: expenses, amount and category.\n",
    "\n",
    "expenses is the empty list created in the main function earlier in this project.\n",
    "amount is the amount of the expense.\n",
    "category is the category of the expense."
   ]
  },
  {
   "cell_type": "code",
   "execution_count": null,
   "metadata": {},
   "outputs": [],
   "source": [
    "def main():\n",
    "    expenses = []\n",
    "    while True:\n",
    "        print('\\nExpense Tracker')\n",
    "        print('1. Add an expense')\n",
    "        print('2. List all expenses')\n",
    "        print('3. Show total expenses')\n",
    "        print('4. Filter expenses by category')\n",
    "        print('5. Exit')\n",
    "        choice = input('Enter your choice: ')\n",
    "        if choice == '1':\n",
    "            amount = input('Enter amount: ')\n",
    "            category = input('Enter category: ')\n",
    "            add_expense(expenses, amount, category)\n",
    "# To list all expenses, you can use an elif clause after an if statement. The elif checks additional conditions and only works following an if statement. Create an elif clause to check if the user's choice equals the string '2'. Inside the elif clause, print the string '\\nAll Expenses:'.\n",
    "        elif choice == '2':\n",
    "            print('\\nAll Expenses:')\n",
    "# If it's true, it means the user wants to see the total expenses. So call print() and pass the string '\\nTotal Expenses: ' as the first argument and total_expenses(expenses) as the second argument.\n",
    "# Create another elif clause that checks if choice == '4'. Inside the new elif, create a variable category and assign it input('Enter category to filter: ') to filter the expense category.\n",
    "# After getting the category, print the following f-string f'\\nExpenses for {category}:'.\n",
    "#Step 49\n",
    "#Still within the elif clause, pass the expenses_from_category iterator to a print_expenses call.\n",
    "# Step 50\n",
    "#To provide a way to exit the program, use another elif clause to check if choice equals the string '5'. Inside the new elif clause, print the string 'Exiting the program.' to show that the program is terminating its execution.\n",
    "\n",
    "\n",
    "        "
   ]
  },
  {
   "cell_type": "code",
   "execution_count": 7,
   "metadata": {},
   "outputs": [],
   "source": [
    "def add_expense(expenses, amount, category):\n",
    "    expenses.append({'amount': amount, 'category': category})\n",
    "    \n",
    "def print_expenses(expenses):\n",
    "    for expense in expenses:\n",
    "        print(f'Amount: {expense[\"amount\"]}, Category: {expense[\"category\"]}')\n",
    "    \n",
    "def total_expenses(expenses):\n",
    "    return sum(map(lambda expense: expense['amount'], expenses))\n",
    "    \n",
    "def filter_expenses_by_category(expenses, category):\n",
    "    return filter(lambda expense: expense['category'] == category, expenses)\n",
    "    \n",
    "\n",
    "def main():\n",
    "    expenses = []\n",
    "    while True:\n",
    "        print('\\nExpense Tracker')\n",
    "        print('1. Add an expense')\n",
    "        print('2. List all expenses')\n",
    "        print('3. Show total expenses')\n",
    "        print('4. Filter expenses by category')\n",
    "        print('5. Exit')\n",
    "       \n",
    "        choice = input('Enter your choice: ')\n",
    "\n",
    "        if choice == '1':\n",
    "            amount = float(input('Enter amount: '))\n",
    "            category = input('Enter category: ')\n",
    "            add_expense(expenses, amount, category)\n",
    "\n",
    "        elif choice == '2':\n",
    "            print('\\nAll Expenses:')\n",
    "            print_expenses(expenses)\n",
    "    \n",
    "        elif choice == '3':\n",
    "            print('\\nTotal Expenses: ', total_expenses(expenses))\n",
    "    \n",
    "        elif choice == '4':\n",
    "            category = input('Enter category to filter: ')\n",
    "            print(f'\\nExpenses for {category}:')\n",
    "            expenses_from_category = filter_expenses_by_category(expenses, category)\n",
    "            print_expenses(expenses_from_category)\n",
    "    \n",
    "        elif choice == '5':\n",
    "            print('Exiting the program.')\n",
    "            break\n",
    "main()"
   ]
  }
 ],
 "metadata": {
  "kernelspec": {
   "display_name": "venv_pandas",
   "language": "python",
   "name": "python3"
  },
  "language_info": {
   "codemirror_mode": {
    "name": "ipython",
    "version": 3
   },
   "file_extension": ".py",
   "mimetype": "text/x-python",
   "name": "python",
   "nbconvert_exporter": "python",
   "pygments_lexer": "ipython3",
   "version": "3.12.8"
  }
 },
 "nbformat": 4,
 "nbformat_minor": 2
}
