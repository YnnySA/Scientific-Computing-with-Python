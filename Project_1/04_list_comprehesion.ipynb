{
 "cells": [
  {
   "cell_type": "code",
   "execution_count": null,
   "metadata": {},
   "outputs": [],
   "source": [
    "## Step 1\n",
    "#In this project, you are going to build a program that takes a camelCase or PascalCase formatted string as input and converts that to a snake_case formatted string using two approaches. First, you'll use a for loop and then list comprehension to achieve the same results. You'll see how list comprehension can make your code more concise.\n",
    "\n",
    "#Start defining a new function named convert_to_snake_case() that accepts a string named pascal_or_camel_cased_string as input. For now, add a pass statement inside the function.\n",
    "\n",
    "##Step 2\n",
    "#You need to add an empty list that will hold the characters of the string after you have converted them to snake case.\n",
    "\n",
    "#Inside the function, replace the pass statement by creating an empty list named snake_cased_char_list.\n",
    "# Step 5\n",
    "#Inside the if statement body, you need to convert any uppercase character to lowercase and prepend an underscore to this lowercase character.\n",
    "\n",
    "#Use the .lower() string method to convert uppercase characters to lowercase characters. Then, prepend an underscore to the character. Assign the results to a variable named converted_character.\n",
    "# Step 6 Use the .append() method on the snake_cased_char_list to add the converted_character to the list.\n",
    "# Step 7 Right after the if statement within the for loop, add an else clause and use the .append() method to add char to the snake_cased_char_list variable."
   ]
  },
  {
   "cell_type": "code",
   "execution_count": 1,
   "metadata": {},
   "outputs": [],
   "source": [
    "def convert_to_snake_case(pascal_or_camel_cased_string):\n",
    "    snake_cased_char_list = []\n",
    "    for char in pascal_or_camel_cased_string:\n",
    "        if char.isupper():\n",
    "            converted_character = '_' + char.lower()\n",
    "            snake_cased_char_list.append(converted_character)\n",
    "        else:\n",
    "            snake_cased_char_list.append(char)"
   ]
  },
  {
   "cell_type": "markdown",
   "metadata": {},
   "source": [
    "## Step 8\n",
    "By this point, the variable snake_cased_char_list holds the list of converted characters. To combine these characters into a single string, you can utilize the .join() method.\n",
    "\n",
    "The join method works by concatenating each element of a list into a string, separated by a designated string, known as the separator.\n",
    "\n",
    "Example Code"
   ]
  },
  {
   "cell_type": "code",
   "execution_count": null,
   "metadata": {},
   "outputs": [],
   "source": [
    "result_string = ''.join(characters)"
   ]
  },
  {
   "cell_type": "markdown",
   "metadata": {},
   "source": [
    "The example above joins together the elements of the characters list into a single string where each element is concatenated together using an empty string as the separator.\n",
    "\n",
    "Now, right after the for loop, use the .join() method to join the elements in snake_cased_char_list using an empty string as the separator. Assign the result to a new variable named snake_cased_string."
   ]
  },
  {
   "cell_type": "code",
   "execution_count": null,
   "metadata": {},
   "outputs": [],
   "source": [
    "def convert_to_snake_case(pascal_or_camel_cased_string):\n",
    "    snake_cased_char_list = []\n",
    "    for char in pascal_or_camel_cased_string:\n",
    "        if char.isupper():\n",
    "            converted_character = '_' + char.lower()\n",
    "            snake_cased_char_list.append(converted_character)\n",
    "        else:\n",
    "            snake_cased_char_list.append(char)\n",
    "    snake_cased_string = ''.join(snake_cased_char_list)\n",
    "    "
   ]
  },
  {
   "cell_type": "markdown",
   "metadata": {},
   "source": [
    "### Step 9\n",
    "In pascal case, strings begin with a capital letter. After converting all the characters to lowercase and adding an underscore to them, there's a chance of having an extra underscore at the start of your string.\n",
    "\n",
    "The easiest way to fix this is by using the .strip() string method, which removes from a string any leading or trailing characters among a set of characters passed as its argument. For example:\n",
    "\n",
    "Example Code"
   ]
  },
  {
   "cell_type": "code",
   "execution_count": 8,
   "metadata": {},
   "outputs": [
    {
     "name": "stdout",
     "output_type": "stream",
     "text": [
      "example_string\n"
     ]
    }
   ],
   "source": [
    "original_string = \"_example_string_\"\n",
    "\n",
    "clean_string = original_string.strip('_')\n",
    "print(clean_string)"
   ]
  },
  {
   "cell_type": "markdown",
   "metadata": {},
   "source": [
    "The strip() method is applied to original_string. This removes any leading and trailing underscore. The result of the example above would be the string 'example_string'.\n",
    "\n",
    "Declare a new variable named clean_snake_cased_string and assign it the result of the .strip() method applied to snake_cased_string , passing '_' as the argument to the method."
   ]
  },
  {
   "cell_type": "code",
   "execution_count": 5,
   "metadata": {},
   "outputs": [
    {
     "name": "stdout",
     "output_type": "stream",
     "text": [
      "a_long_and_complex_string\n"
     ]
    }
   ],
   "source": [
    "def convert_to_snake_case(pascal_or_camel_cased_string):\n",
    "    snake_cased_char_list = []\n",
    "    for char in pascal_or_camel_cased_string:\n",
    "        if char.isupper():\n",
    "            converted_character = '_' + char.lower()\n",
    "            snake_cased_char_list.append(converted_character)\n",
    "        else:\n",
    "            snake_cased_char_list.append(char)\n",
    "    snake_cased_string = ''.join(snake_cased_char_list)\n",
    "    clean_snake_cased_string = snake_cased_string.strip('_')\n",
    "    return clean_snake_cased_string\n",
    "def main():\n",
    "    print(convert_to_snake_case('aLongAndComplexString'))\n",
    "\n",
    "\n",
    "main()"
   ]
  },
  {
   "cell_type": "code",
   "execution_count": null,
   "metadata": {},
   "outputs": [],
   "source": [
    "def convert_to_snake_case(pascal_or_camel_cased_string):\n",
    "    # snake_cased_char_list = []\n",
    "    # for char in pascal_or_camel_cased_string:\n",
    "    #     if char.isupper():\n",
    "    #         converted_character = '_' + char.lower()\n",
    "    #         snake_cased_char_list.append(converted_character)\n",
    "    #     else:\n",
    "    #         snake_cased_char_list.append(char)\n",
    "    # snake_cased_string = ''.join(snake_cased_char_list)\n",
    "    # clean_snake_cased_string = snake_cased_string.strip('_')\n",
    "    # return clean_snake_cased_string\n",
    "    snake_cased_char_list = []\n",
    "    return ''.join(snake_cased_char_list)\n"
   ]
  },
  {
   "cell_type": "markdown",
   "metadata": {},
   "source": [
    "### Step 18\n",
    "After joining the elements of the list snake_cased_char_list, you will need to remove any leading or trailing underscores from the resulting string. For this, use the strip method with the underscore character _ as an argument.\n",
    "\n",
    "Method calls can be chained together, which means that the result of one method call can be used as the object for another method call.\n",
    "\n",
    "Example Code"
   ]
  },
  {
   "cell_type": "code",
   "execution_count": 7,
   "metadata": {},
   "outputs": [
    {
     "name": "stdout",
     "output_type": "stream",
     "text": [
      "HELLO WORLD THIS IS CHAINED METHODS\n"
     ]
    }
   ],
   "source": [
    "words_list = ['hello', 'world', 'this', 'is', 'chained', 'methods']\n",
    "result = ' '.join(words_list).upper()\n",
    "print(result)"
   ]
  },
  {
   "cell_type": "markdown",
   "metadata": {},
   "source": [
    "In the example above, the .upper() method is chained to ' '.join(words_list), therefore .upper() is called on the result of the .join() call.\n",
    "\n",
    "Modify the return statement by chaining to ''.join(snake_cased_char_list) a call to the .strip() method to remove any leading or trailing underscores."
   ]
  },
  {
   "cell_type": "code",
   "execution_count": 11,
   "metadata": {},
   "outputs": [],
   "source": [
    "def convert_to_snake_case(pascal_or_camel_cased_string):\n",
    "    snake_cased_char_list = ['_' + char.lower() for char in pascal_or_camel_cased_string]\n",
    "    return ''.join(snake_cased_char_list).strip('_')\n"
   ]
  },
  {
   "cell_type": "markdown",
   "metadata": {},
   "source": [
    "### Step 19\n",
    "In Python, a list comprehension is a construct that allows you to generate a new list by applying an expression to each item in an existing iterable and optionally filtering items with a condition. Apart from being briefer, list comprehensions often run faster.\n",
    "\n",
    "A basic list comprehension consists of an expression followed by a for clause:\n",
    "\n",
    "Example Code"
   ]
  },
  {
   "cell_type": "code",
   "execution_count": null,
   "metadata": {},
   "outputs": [],
   "source": [
    "spam = [i * 2 for i in iterable]"
   ]
  },
  {
   "cell_type": "markdown",
   "metadata": {},
   "source": [
    "The above uses the variable i to iterate over iterable. Each elements of the resulting list is obtained by evaluating the expression i * 2 at the current iteration.\n",
    "\n",
    "In this step, you need to fill the empty list snake_cased_char_list using the list comprehension syntax.\n",
    "\n",
    "Turn your empty list into a list comprehension that converts each character in pascal_or_camel_cased_string into a lowercase character and prepends an underscore to it (the code you commented out before may help you write the expression). Use char to iterate over pascal_or_camel_cased_string."
   ]
  },
  {
   "cell_type": "code",
   "execution_count": null,
   "metadata": {},
   "outputs": [],
   "source": [
    "def convert_to_snake_case(pascal_or_camel_cased_string):\n",
    "    snake_cased_char_list = ['_' + char.lower() for char in pascal_or_camel_cased_string]\n",
    "    return ''.join(snake_cased_char_list).strip('_')\n"
   ]
  },
  {
   "cell_type": "markdown",
   "metadata": {},
   "source": [
    "### Step 20\n",
    "List comprehensions accept conditional statements, to evaluate the provided expression only if certain conditions are met:\n",
    "\n",
    "Example Code"
   ]
  },
  {
   "cell_type": "code",
   "execution_count": null,
   "metadata": {},
   "outputs": [],
   "source": [
    "spam = [i * 2 for i in iterable if i > 0]"
   ]
  },
  {
   "cell_type": "markdown",
   "metadata": {},
   "source": [
    "As you can see from the output, the list of characters generated from pascal_or_camel_cased_string has been joined. Since the expression inside the list comprehension is evaluated for each character, the result is a lowercase string with all the characters separated by an underscore.\n",
    "\n",
    "Follow the example above to add an if clause to your list comprehension so that the expression is executed only if the character is uppercase."
   ]
  },
  {
   "cell_type": "code",
   "execution_count": 13,
   "metadata": {},
   "outputs": [],
   "source": [
    "def convert_to_snake_case(pascal_or_camel_cased_string):\n",
    "    snake_cased_char_list = ['_' + char.lower() for char in pascal_or_camel_cased_string if char.isupper()]\n",
    "    return ''.join(snake_cased_char_list).strip('_')\n"
   ]
  },
  {
   "cell_type": "markdown",
   "metadata": {},
   "source": [
    "### Step 21\n",
    "Still, the final result is not exactly what you want to achieve. You need to execute a different expression for the characters filtered out by the if clause. You'll use an else clause for that:\n",
    "\n",
    "Example Code"
   ]
  },
  {
   "cell_type": "code",
   "execution_count": null,
   "metadata": {},
   "outputs": [],
   "source": [
    "spam = [i * 2 if i > 0 else -1 for i in iterable]"
   ]
  },
  {
   "cell_type": "markdown",
   "metadata": {},
   "source": [
    "Note that, differently from the if clause, the if/else construct must be placed between the expression and the for keyword.\n",
    "\n",
    "Modify your list comprehension so that when a character is not uppercase it remains unchanged."
   ]
  },
  {
   "cell_type": "code",
   "execution_count": 17,
   "metadata": {},
   "outputs": [
    {
     "name": "stdout",
     "output_type": "stream",
     "text": [
      "i_am_a_pascal_cased_string\n"
     ]
    }
   ],
   "source": [
    "def convert_to_snake_case(pascal_or_camel_cased_string):\n",
    "    snake_cased_char_list = ['_' + char.lower() if char.isupper() else char for char in pascal_or_camel_cased_string]\n",
    "    return ''.join(snake_cased_char_list).strip('_')\n",
    "def main():\n",
    "    print(convert_to_snake_case('IAmAPascalCasedString'))\n",
    "\n",
    "main()\n"
   ]
  },
  {
   "cell_type": "code",
   "execution_count": null,
   "metadata": {},
   "outputs": [],
   "source": []
  }
 ],
 "metadata": {
  "kernelspec": {
   "display_name": "venv_pandas",
   "language": "python",
   "name": "python3"
  },
  "language_info": {
   "codemirror_mode": {
    "name": "ipython",
    "version": 3
   },
   "file_extension": ".py",
   "mimetype": "text/x-python",
   "name": "python",
   "nbconvert_exporter": "python",
   "pygments_lexer": "ipython3",
   "version": "3.12.8"
  }
 },
 "nbformat": 4,
 "nbformat_minor": 2
}
