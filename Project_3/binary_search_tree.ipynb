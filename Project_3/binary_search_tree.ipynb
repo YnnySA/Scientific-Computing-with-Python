{
 "cells": [
  {
   "cell_type": "markdown",
   "metadata": {},
   "source": [
    "In this project, you are going to create a Binary Search Tree (BST). A BST is a data structure in which each node has at most two children, with the left child containing values less than the parent node and the right child containing values greater than the parent node, allowing for efficient searching and sorting operations.\n",
    "\n",
    "This is what a Binary Search Tree looks like:"
   ]
  },
  {
   "cell_type": "code",
   "execution_count": 1,
   "metadata": {},
   "outputs": [
    {
     "data": {
      "image/png": "[encoded data removed]",
      "text/plain": [
       "<IPython.core.display.Image object>"
      ]
     },
     "execution_count": 1,
     "metadata": {},
     "output_type": "execute_result"
    }
   ],
   "source": [
    "from IPython.display import Image\n",
    "Image(filename='bst-example.png')\n"
   ]
  },
  {
   "cell_type": "code",
   "execution_count": 2,
   "metadata": {},
   "outputs": [
    {
     "name": "stdout",
     "output_type": "stream",
     "text": [
      "Search for 80: 80\n",
      "Inorder traversal: [20, 30, 40, 50, 60, 70, 80]\n",
      "Search for 40: 40\n",
      "Inorder traversal after deleting 40: [20, 30, 40, 50, 60, 70, 80]\n"
     ]
    }
   ],
   "source": [
    "class TreeNode:\n",
    "    def __init__(self, key):\n",
    "        self.key = key\n",
    "        self.left = None\n",
    "        self.right = None\n",
    "    def __str__(self):\n",
    "        return str(self.key)\n",
    "\n",
    "class BinarySearchTree:\n",
    "    \n",
    "    def __init__(self):\n",
    "        self.root = None\n",
    "        \n",
    "    def _insert(self, node, key):\n",
    "        if node is None:\n",
    "            return TreeNode(key)\n",
    "        if key < node.key:\n",
    "            node.left = self._insert(node.left, key)\n",
    "        elif key > node.key:\n",
    "            node.right = self._insert(node.right, key)\n",
    "        return node\n",
    "    def insert(self, key):\n",
    "        self.root = self._insert(self.root, key)\n",
    "\n",
    "    def _search(self, node, key):\n",
    "        if node is None or node.key == key:\n",
    "            return node\n",
    "        if key < node.key:\n",
    "            return self._search(node.left, key)\n",
    "        return self._search(node.right, key)\n",
    "    \n",
    "    def search(self, key):\n",
    "        return self._search(self.root, key)\n",
    "    \n",
    "    def _delete(self, node, key):\n",
    "        if node is None:\n",
    "            return node\n",
    "        if key < node.key:\n",
    "            node.left = self._delete(node.left, key)\n",
    "        elif key > node.key:\n",
    "            node.right = self._delete(node.right, key)\n",
    "        else:\n",
    "            if node.left is None:\n",
    "                return node.right\n",
    "            elif node.right is None:\n",
    "                return node.left\n",
    "            node.key = self._min_value(node.right).key\n",
    "            node.right = self._delete(node.right, node.key)\n",
    "        return node \n",
    "            \n",
    "    def _min_value(self, node):\n",
    "        while node.left is not None:\n",
    "            node = node.left\n",
    "        return node.key\n",
    "    \n",
    "    def delete(self, key):\n",
    "        pass\n",
    "\n",
    "    def _inorder_traversal(self, node, result):\n",
    "        if node:\n",
    "            self._inorder_traversal(node.left, result)\n",
    "            result.append(node.key)\n",
    "            self._inorder_traversal(node.right, result)\n",
    "\n",
    "    def inorder_traversal(self):\n",
    "        result = []\n",
    "        self._inorder_traversal(self.root, result)\n",
    "        return result\n",
    "        \n",
    "\n",
    "bst = BinarySearchTree()\n",
    "\n",
    "nodes = [50, 30, 20, 40, 70, 60, 80]\n",
    "for node in nodes:\n",
    "    bst.insert(node)\n",
    "\n",
    "print('Search for 80:', bst.search(80))\n",
    "\n",
    "print(\"Inorder traversal:\", bst.inorder_traversal())\n",
    "\n",
    "bst.delete(40)\n",
    "\n",
    "print(\"Search for 40:\", bst.search(40))\n",
    "\n",
    "print('Inorder traversal after deleting 40:',bst.inorder_traversal()) "
   ]
  }
 ],
 "metadata": {
  "kernelspec": {
   "display_name": "venv_pandas",
   "language": "python",
   "name": "python3"
  },
  "language_info": {
   "codemirror_mode": {
    "name": "ipython",
    "version": 3
   },
   "file_extension": ".py",
   "mimetype": "text/x-python",
   "name": "python",
   "nbconvert_exporter": "python",
   "pygments_lexer": "ipython3",
   "version": "3.12.8"
  }
 },
 "nbformat": 4,
 "nbformat_minor": 2
}
