{
 "cells": [
  {
   "cell_type": "code",
   "execution_count": 2,
   "metadata": {},
   "outputs": [
    {
     "name": "stdout",
     "output_type": "stream",
     "text": [
      "H\n",
      "e\n",
      "l\n",
      "l\n",
      "o\n",
      " \n",
      "W\n",
      "o\n",
      "r\n",
      "l\n",
      "d\n"
     ]
    }
   ],
   "source": [
    "text = 'Hello World'\n",
    "shift = 3\n",
    "alphabet = 'abcdefghijklmnopqrstuvwxyz'\n",
    "\n",
    "for i in text:\n",
    "    print(i)"
   ]
  },
  {
   "cell_type": "code",
   "execution_count": 9,
   "metadata": {},
   "outputs": [
    {
     "name": "stdout",
     "output_type": "stream",
     "text": [
      "h 7\n",
      "k\n",
      "e 4\n",
      "h\n",
      "l 11\n",
      "o\n",
      "l 11\n",
      "o\n",
      "o 14\n",
      "r\n",
      "  -1\n",
      "c\n",
      "w 22\n",
      "z\n",
      "o 14\n",
      "r\n",
      "r 17\n",
      "u\n",
      "l 11\n",
      "o\n",
      "d 3\n",
      "g\n"
     ]
    }
   ],
   "source": [
    "text = 'Hello World'\n",
    "shift = 3\n",
    "alphabet = 'abcdefghijklmnopqrstuvwxyz'\n",
    "\n",
    "for char in text.lower():\n",
    "    index = alphabet.find(char)\n",
    "    print(char, index)\n",
    "    new_index = index + shift\n",
    "    new_char = alphabet[new_index]\n",
    "    print(new_char)"
   ]
  },
  {
   "cell_type": "code",
   "execution_count": 10,
   "metadata": {},
   "outputs": [
    {
     "name": "stdout",
     "output_type": "stream",
     "text": [
      "char: h new char: k\n",
      "char: e new char: h\n",
      "char: l new char: o\n",
      "char: l new char: o\n",
      "char: o new char: r\n",
      "char:   new char: c\n",
      "char: w new char: z\n",
      "char: o new char: r\n",
      "char: r new char: u\n",
      "char: l new char: o\n",
      "char: d new char: g\n"
     ]
    }
   ],
   "source": [
    "text = 'Hello World'\n",
    "shift = 3\n",
    "alphabet = 'abcdefghijklmnopqrstuvwxyz'\n",
    "encrypted_text = ''\n",
    "\n",
    "for char in text.lower():\n",
    "    index = alphabet.find(char)    \n",
    "    new_index = index + shift\n",
    "    new_char = alphabet[new_index]\n",
    "    print('char:', char, 'new char:', new_char)"
   ]
  },
  {
   "cell_type": "code",
   "execution_count": 1,
   "metadata": {},
   "outputs": [
    {
     "name": "stdout",
     "output_type": "stream",
     "text": [
      "False\n",
      "char: h encrypted text: k\n",
      "False\n",
      "char: e encrypted text: kh\n",
      "False\n",
      "char: l encrypted text: kho\n",
      "False\n",
      "char: l encrypted text: khoo\n",
      "False\n",
      "char: o encrypted text: khoor\n",
      "True\n",
      "char:   encrypted text: khoorc\n",
      "False\n",
      "char: w encrypted text: khoorcz\n",
      "False\n",
      "char: o encrypted text: khoorczr\n",
      "False\n",
      "char: r encrypted text: khoorczru\n",
      "False\n",
      "char: l encrypted text: khoorczruo\n",
      "False\n",
      "char: d encrypted text: khoorczruog\n"
     ]
    }
   ],
   "source": [
    "text = 'Hello World'\n",
    "shift = 3\n",
    "alphabet = 'abcdefghijklmnopqrstuvwxyz'\n",
    "encrypted_text = ''\n",
    "for char in text.lower():\n",
    "    print(char == ' ')\n",
    "    index = alphabet.find(char)\n",
    "    new_index = index + shift\n",
    "    encrypted_text += alphabet[new_index]\n",
    "    print('char:', char, 'encrypted text:', encrypted_text)"
   ]
  },
  {
   "cell_type": "code",
   "execution_count": 2,
   "metadata": {},
   "outputs": [
    {
     "name": "stdout",
     "output_type": "stream",
     "text": [
      "char: h encrypted text: k\n",
      "char: e encrypted text: kh\n",
      "char: l encrypted text: kho\n",
      "char: l encrypted text: khoo\n",
      "char: o encrypted text: khoor\n",
      "space!\n",
      "char:   encrypted text: khoorc\n",
      "char: w encrypted text: khoorcz\n",
      "char: o encrypted text: khoorczr\n",
      "char: r encrypted text: khoorczru\n",
      "char: l encrypted text: khoorczruo\n",
      "char: d encrypted text: khoorczruog\n"
     ]
    }
   ],
   "source": [
    "text = 'Hello World'\n",
    "shift = 3\n",
    "alphabet = 'abcdefghijklmnopqrstuvwxyz'\n",
    "encrypted_text = ''\n",
    "\n",
    "for char in text.lower():\n",
    "    if char == ' ':\n",
    "        print('space!')\n",
    "    index = alphabet.find(char)\n",
    "    new_index = index + shift\n",
    "    encrypted_text += alphabet[new_index]\n",
    "    print('char:', char, 'encrypted text:', encrypted_text)"
   ]
  },
  {
   "cell_type": "code",
   "execution_count": 17,
   "metadata": {},
   "outputs": [
    {
     "name": "stdout",
     "output_type": "stream",
     "text": [
      "char: h encrypted text: k\n",
      "char: e encrypted text: kh\n",
      "char: l encrypted text: kho\n",
      "char: l encrypted text: khoo\n",
      "char: o encrypted text: khoor\n",
      "char:   encrypted text: khoor c\n",
      "char: w encrypted text: khoor cz\n",
      "char: o encrypted text: khoor czr\n",
      "char: r encrypted text: khoor czru\n",
      "char: l encrypted text: khoor czruo\n",
      "char: d encrypted text: khoor czruog\n"
     ]
    }
   ],
   "source": [
    "# Now, instead of printing 'space!', use the addition assignment operator to add the space (currently stored in char) to the current value of encrypted_text.\n",
    "text = 'Hello World'\n",
    "shift = 3\n",
    "alphabet = 'abcdefghijklmnopqrstuvwxyz'\n",
    "encrypted_text = ''\n",
    "\n",
    "for char in text.lower():\n",
    "    if char == ' ':\n",
    "        encrypted_text += char\n",
    "    index = alphabet.find(char)\n",
    "    new_index = index + shift\n",
    "    encrypted_text += alphabet[new_index]\n",
    "    print('char:', char, 'encrypted text:', encrypted_text)"
   ]
  },
  {
   "cell_type": "code",
   "execution_count": 21,
   "metadata": {},
   "outputs": [
    {
     "name": "stdout",
     "output_type": "stream",
     "text": [
      "x = 0\n"
     ]
    }
   ],
   "source": [
    "# Example code}\n",
    "x = 0\n",
    "if x != 0:\n",
    "    print(x)\n",
    "else:\n",
    "    print('x = 0')"
   ]
  },
  {
   "cell_type": "code",
   "execution_count": 23,
   "metadata": {},
   "outputs": [
    {
     "name": "stdout",
     "output_type": "stream",
     "text": [
      "char: h encrypted text: k\n",
      "char: e encrypted text: kh\n",
      "char: l encrypted text: kho\n",
      "char: l encrypted text: khoo\n",
      "char: o encrypted text: khoor\n",
      "char:   encrypted text: khoor \n",
      "char: w encrypted text: khoor z\n",
      "char: o encrypted text: khoor zr\n",
      "char: r encrypted text: khoor zru\n",
      "char: l encrypted text: khoor zruo\n",
      "char: d encrypted text: khoor zruog\n"
     ]
    }
   ],
   "source": [
    "# Step 43 As you can see in your output, when the loop iterations reach the space, a space is added to the encrypted string. Then the code outside the if block executes and a c is added to the encrypted string. To fix it, add an else clause after encrypted_text += char and indent all the subsequent lines of code except the print() call.\n",
    "text = 'Hello World'\n",
    "shift = 3\n",
    "alphabet = 'abcdefghijklmnopqrstuvwxyz'\n",
    "encrypted_text = ''\n",
    "\n",
    "for char in text.lower():\n",
    "    if char == ' ':\n",
    "        encrypted_text += char\n",
    "    else:\n",
    "        index = alphabet.find(char)\n",
    "        new_index = index + shift\n",
    "        encrypted_text += alphabet[new_index]\n",
    "    print('char:', char, 'encrypted text:', encrypted_text)"
   ]
  },
  {
   "cell_type": "code",
   "execution_count": 24,
   "metadata": {},
   "outputs": [
    {
     "name": "stdout",
     "output_type": "stream",
     "text": [
      "char: h encrypted text: k\n",
      "char: e encrypted text: kh\n",
      "char: l encrypted text: kho\n",
      "char: l encrypted text: khoo\n",
      "char: o encrypted text: khoor\n",
      "char:   encrypted text: khoor \n",
      "char: z encrypted text: khoor c\n",
      "char: a encrypted text: khoor cd\n",
      "char: i encrypted text: khoor cdl\n",
      "char: r encrypted text: khoor cdlu\n",
      "char: a encrypted text: khoor cdlud\n"
     ]
    }
   ],
   "source": [
    "# Step 45 \n",
    "#When the loop reaches the letter Z, the sum index + shift exceeds the last index of the string alphabet. Therefore, alphabet[new_index] is trying to use an invalid index, which causes an IndexError to be thrown.\n",
    "#You can notice that the output in the terminal stops at the space immediately before the Z, the last print before the error is thrown.\n",
    "#In this case, the modulo operator (%) can be used to return the remainder of the division between two numbers. For example: 5 % 2 is equal to 1, because 5 divided by 2 has a quotient of 2 and a remainder of 1.\n",
    "#Surround index + shift with parentheses, and modulo the expression with 26, which is the alphabet length.\n",
    "text = 'Hello Zaira'\n",
    "shift = 3\n",
    "alphabet = 'abcdefghijklmnopqrstuvwxyz'\n",
    "encrypted_text = ''\n",
    "\n",
    "for char in text.lower():\n",
    "    if char == ' ':\n",
    "        encrypted_text += char\n",
    "    else:\n",
    "        index = alphabet.find(char)\n",
    "        new_index = (index + shift)%26\n",
    "        encrypted_text += alphabet[new_index]\n",
    "    print('char:', char, 'encrypted text:', encrypted_text)"
   ]
  },
  {
   "cell_type": "code",
   "execution_count": 3,
   "metadata": {},
   "outputs": [
    {
     "name": "stdout",
     "output_type": "stream",
     "text": [
      "P\n",
      "y\n",
      "t\n",
      "h\n",
      "o\n",
      "n\n",
      "apple\n",
      "banana\n",
      "cherry\n"
     ]
    }
   ],
   "source": [
    "# Iterate through string\n",
    "for char in \"Python\":\n",
    "    print(char)\n",
    "\n",
    "# Iterate through list\n",
    "fruits = [\"apple\", \"banana\", \"cherry\"]\n",
    "for fruit in fruits:\n",
    "    print(fruit)\n"
   ]
  },
  {
   "cell_type": "code",
   "execution_count": 4,
   "metadata": {},
   "outputs": [
    {
     "name": "stdout",
     "output_type": "stream",
     "text": [
      "0\n",
      "1\n",
      "2\n",
      "3\n",
      "4\n",
      "0\n",
      "2\n",
      "4\n",
      "6\n",
      "8\n"
     ]
    }
   ],
   "source": [
    "# Count from 0 to 4\n",
    "for i in range(5):\n",
    "    print(i)  # Prints: 0, 1, 2, 3, 4\n",
    "\n",
    "# Count with step\n",
    "for i in range(0, 10, 2):\n",
    "    print(i)  # Prints: 0, 2, 4, 6, 8\n"
   ]
  },
  {
   "cell_type": "code",
   "execution_count": 5,
   "metadata": {},
   "outputs": [
    {
     "name": "stdout",
     "output_type": "stream",
     "text": [
      "Index 0: red\n",
      "Index 1: green\n",
      "Index 2: blue\n"
     ]
    }
   ],
   "source": [
    "colors = [\"red\", \"green\", \"blue\"]\n",
    "for index, color in enumerate(colors):\n",
    "    print(f\"Index {index}: {color}\")\n"
   ]
  }
 ],
 "metadata": {
  "kernelspec": {
   "display_name": "venv_pandas",
   "language": "python",
   "name": "python3"
  },
  "language_info": {
   "codemirror_mode": {
    "name": "ipython",
    "version": 3
   },
   "file_extension": ".py",
   "mimetype": "text/x-python",
   "name": "python",
   "nbconvert_exporter": "python",
   "pygments_lexer": "ipython3",
   "version": "3.12.8"
  }
 },
 "nbformat": 4,
 "nbformat_minor": 2
}
