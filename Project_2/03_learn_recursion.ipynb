{
 "cells": [
  {
   "cell_type": "code",
   "execution_count": null,
   "metadata": {},
   "outputs": [
    {
     "name": "stdout",
     "output_type": "stream",
     "text": [
      "{'A': range(3, 0, -1), 'B': [], 'C': []}\n",
      "<class 'range'>\n",
      "<class 'list'>\n",
      "<class 'list'>\n"
     ]
    }
   ],
   "source": [
    "rods = {\n",
    "    'A': [],\n",
    "    'B': [],\n",
    "    'C': []\n",
    "}\n",
    "rods['A'] = range(3, 0, -1) # The range() function returns an immutable sequence of numbers. As you can see, the data type of rods['A'] is range, but you want it to be a list.\n",
    "\n",
    "print(rods)\n",
    "\n",
    "print(type(rods['A']))\n",
    "print(type(rods['B']))\n",
    "print(type(rods['C']))"
   ]
  },
  {
   "cell_type": "code",
   "execution_count": 12,
   "metadata": {},
   "outputs": [
    {
     "name": "stdout",
     "output_type": "stream",
     "text": [
      "7\n",
      "{'A': [3, 2, 1], 'B': [], 'C': []}\n",
      "<class 'list'>\n",
      "<class 'list'>\n",
      "<class 'list'>\n"
     ]
    }
   ],
   "source": [
    "NUMBER_OF_DISKS = 3\n",
    "number_of_moves = 2**NUMBER_OF_DISKS - 1\n",
    "print(number_of_moves)\n",
    "rods = {\n",
    "    'A': list(range(3, 0, -1)),\n",
    "    'B': [],\n",
    "    'C': []\n",
    "}\n",
    "print(rods)\n",
    "\n",
    "print(type(rods['A']))\n",
    "print(type(rods['B']))\n",
    "print(type(rods['C']))"
   ]
  },
  {
   "cell_type": "code",
   "execution_count": null,
   "metadata": {},
   "outputs": [],
   "source": [
    "# The goal of the Tower of Hanoi is moving all the disks to the last rod. To do that, you must follow three simple rules:\n",
    "\n",
    "#You can move only top-most disks\n",
    "#You can move only one disk at a time\n",
    "#You cannot place larger disks on top of smaller ones\n",
    "#Below your existing code, declare an empty function named move. Later on, you will use that function to move the disks between the rods. For now, to avoid errors, use the pass keyword inside the function body.\n",
    "\n",
    "# The Tower of Hanoi puzzle can be solved in 2n - 1 moves, where n is the number of disks. Declare a variable named number_of_moves and assign the total number of moves to this variable.\n",
    "\n",
    "# The power operator in Python is **."
   ]
  },
  {
   "cell_type": "code",
   "execution_count": 14,
   "metadata": {},
   "outputs": [
    {
     "name": "stdout",
     "output_type": "stream",
     "text": [
      "{'A': [3, 2, 1], 'B': [], 'C': []}\n"
     ]
    }
   ],
   "source": [
    "NUMBER_OF_DISKS = 3\n",
    "number_of_moves = 2**NUMBER_OF_DISKS - 1\n",
    "rods = {\n",
    "    'A': list(range(NUMBER_OF_DISKS, 0, -1)),\n",
    "    'B': [],\n",
    "    'C': []\n",
    "}\n",
    "def move():\n",
    "    print(rods)\n",
    "move()"
   ]
  },
  {
   "cell_type": "markdown",
   "metadata": {},
   "source": [
    "# Step 13\n",
    "In the Tower of Hanoi puzzle, you can identify the three rods according to their purpose:\n",
    "\n",
    "- The first rod is the source, where all the disks are stacked on top of each other at the beginning of the game.\n",
    "- The second rod is an auxiliary rod, and it helps in moving the disks to the target rod.\n",
    "- The third rod is the target, where all the disks should be placed in order at the end of the game.\n",
    "\n",
    "Currently, the move() function does not take any parameters. Change the function declaration to take 4 parameters: n, source, auxiliary, and target. Then, pass NUMBER_OF_DISKS and the strings 'A', 'B', and 'C' as arguments to your function call. The order matters."
   ]
  },
  {
   "cell_type": "code",
   "execution_count": 15,
   "metadata": {},
   "outputs": [
    {
     "name": "stdout",
     "output_type": "stream",
     "text": [
      "{'A': [3, 2, 1], 'B': [], 'C': []}\n"
     ]
    }
   ],
   "source": [
    "NUMBER_OF_DISKS = 3\n",
    "number_of_moves = 2**NUMBER_OF_DISKS - 1\n",
    "rods = {\n",
    "    'A': list(range(NUMBER_OF_DISKS, 0, -1)),\n",
    "    'B': [],\n",
    "    'C': []\n",
    "}\n",
    "def move(n, source, auxiliary, target):\n",
    "    print(rods)\n",
    "\n",
    "move(NUMBER_OF_DISKS, 'A', 'B', 'C')"
   ]
  },
  {
   "cell_type": "markdown",
   "metadata": {},
   "source": [
    "# Step 16\n",
    "At the end of this project, you will create a recursive solution to the Tower of Hanoi puzzle, but now you are going to explore an iterative approach to this problem.\n",
    "\n",
    "Start by adding a for loop to your function that iterates through the number_of_moves and prints the current iteration number."
   ]
  },
  {
   "cell_type": "code",
   "execution_count": null,
   "metadata": {},
   "outputs": [],
   "source": [
    "def move(n, source, auxiliary, target):\n",
    "    # display starting configuration\n",
    "    for i in range(number_of_moves):\n",
    "        print(i)\n",
    "    print(rods)"
   ]
  },
  {
   "cell_type": "markdown",
   "metadata": {},
   "source": [
    "# Step 17\n",
    "The allowed disk movements between the rods exhibit a repetitive pattern occurring every three moves. For example, movements between rod A and rod C are allowed on the first, the fourth and the seventh move, where the remainder of the division between the move number and 3 is equal to 1.\n",
    "\n",
    "Inside the previously created for loop, replace the existing print() call with an if statement that is triggered when (i + 1) % 3 == 1. Within this if statement, print f'Move {i + 1} allowed between {source} and {target}' using an f-string. Please, note that i + 1 is the move number since i is zero during the first iteration."
   ]
  },
  {
   "cell_type": "code",
   "execution_count": 3,
   "metadata": {},
   "outputs": [
    {
     "name": "stdout",
     "output_type": "stream",
     "text": [
      "{'A': [3, 2, 1], 'B': [], 'C': []}\n",
      "Move 1 allowed between A and C\n",
      "Move 4 allowed between A and C\n",
      "Move 7 allowed between A and C\n"
     ]
    }
   ],
   "source": [
    "NUMBER_OF_DISKS = 3\n",
    "number_of_moves = 2**NUMBER_OF_DISKS - 1\n",
    "rods = {\n",
    "    'A': list(range(NUMBER_OF_DISKS, 0, -1)),\n",
    "    'B': [],\n",
    "    'C': []\n",
    "}\n",
    "def move(n, source, auxiliary, target):\n",
    "    # display starting configuration\n",
    "    print(rods)\n",
    "    for i in range(number_of_moves):\n",
    "        if (i + 1) % 3 == 1:\n",
    "            print(f'Move {i + 1} allowed between {source} and {target}')\n",
    "\n",
    "move(NUMBER_OF_DISKS, 'A', 'B', 'C')"
   ]
  },
  {
   "cell_type": "markdown",
   "metadata": {},
   "source": [
    "# Step 20\n",
    "When the remainder of the move number divided by 3 is equal to 2, the movement is allowed between 'A' and 'B' (the source and the auxiliary rods).\n",
    "\n",
    "Add an elif statement for that. Then, print the appropriate string if the condition is met."
   ]
  },
  {
   "cell_type": "code",
   "execution_count": null,
   "metadata": {},
   "outputs": [],
   "source": [
    "NUMBER_OF_DISKS = 3\n",
    "number_of_moves = 2**NUMBER_OF_DISKS - 1\n",
    "rods = {\n",
    "    'A': list(range(NUMBER_OF_DISKS, 0, -1)),\n",
    "    'B': [],\n",
    "    'C': []\n",
    "}\n",
    "def move(n, source, auxiliary, target):\n",
    "    # display starting configuration\n",
    "    print(rods)\n",
    "    for i in range(number_of_moves):\n",
    "        remainder = (i + 1) % 3\n",
    "        if remainder == 1:\n",
    "            print(f'Move {i + 1} allowed between {source} and {target}')\n",
    "        elif remainder == 2:\n",
    "            print(f'Move {i + 1} allowed between {source} and {auxiliary}')"
   ]
  }
 ],
 "metadata": {
  "kernelspec": {
   "display_name": "venv_pandas",
   "language": "python",
   "name": "python3"
  },
  "language_info": {
   "codemirror_mode": {
    "name": "ipython",
    "version": 3
   },
   "file_extension": ".py",
   "mimetype": "text/x-python",
   "name": "python",
   "nbconvert_exporter": "python",
   "pygments_lexer": "ipython3",
   "version": "3.12.8"
  }
 },
 "nbformat": 4,
 "nbformat_minor": 2
}
