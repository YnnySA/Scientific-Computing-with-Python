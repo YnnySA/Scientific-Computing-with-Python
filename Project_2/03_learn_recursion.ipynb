{
 "cells": [
  {
   "cell_type": "code",
   "execution_count": null,
   "metadata": {},
   "outputs": [
    {
     "name": "stdout",
     "output_type": "stream",
     "text": [
      "{'A': range(3, 0, -1), 'B': [], 'C': []}\n",
      "<class 'range'>\n",
      "<class 'list'>\n",
      "<class 'list'>\n"
     ]
    }
   ],
   "source": [
    "rods = {\n",
    "    'A': [],\n",
    "    'B': [],\n",
    "    'C': []\n",
    "}\n",
    "rods['A'] = range(3, 0, -1) # The range() function returns an immutable sequence of numbers. As you can see, the data type of rods['A'] is range, but you want it to be a list.\n",
    "\n",
    "print(rods)\n",
    "\n",
    "print(type(rods['A']))\n",
    "print(type(rods['B']))\n",
    "print(type(rods['C']))"
   ]
  },
  {
   "cell_type": "code",
   "execution_count": 12,
   "metadata": {},
   "outputs": [
    {
     "name": "stdout",
     "output_type": "stream",
     "text": [
      "7\n",
      "{'A': [3, 2, 1], 'B': [], 'C': []}\n",
      "<class 'list'>\n",
      "<class 'list'>\n",
      "<class 'list'>\n"
     ]
    }
   ],
   "source": [
    "NUMBER_OF_DISKS = 3\n",
    "number_of_moves = 2**NUMBER_OF_DISKS - 1\n",
    "print(number_of_moves)\n",
    "rods = {\n",
    "    'A': list(range(3, 0, -1)),\n",
    "    'B': [],\n",
    "    'C': []\n",
    "}\n",
    "print(rods)\n",
    "\n",
    "print(type(rods['A']))\n",
    "print(type(rods['B']))\n",
    "print(type(rods['C']))"
   ]
  },
  {
   "cell_type": "code",
   "execution_count": null,
   "metadata": {},
   "outputs": [],
   "source": [
    "# The goal of the Tower of Hanoi is moving all the disks to the last rod. To do that, you must follow three simple rules:\n",
    "\n",
    "#You can move only top-most disks\n",
    "#You can move only one disk at a time\n",
    "#You cannot place larger disks on top of smaller ones\n",
    "#Below your existing code, declare an empty function named move. Later on, you will use that function to move the disks between the rods. For now, to avoid errors, use the pass keyword inside the function body.\n",
    "\n",
    "# The Tower of Hanoi puzzle can be solved in 2n - 1 moves, where n is the number of disks. Declare a variable named number_of_moves and assign the total number of moves to this variable.\n",
    "\n",
    "# The power operator in Python is **."
   ]
  },
  {
   "cell_type": "code",
   "execution_count": 14,
   "metadata": {},
   "outputs": [
    {
     "name": "stdout",
     "output_type": "stream",
     "text": [
      "{'A': [3, 2, 1], 'B': [], 'C': []}\n"
     ]
    }
   ],
   "source": [
    "NUMBER_OF_DISKS = 3\n",
    "number_of_moves = 2**NUMBER_OF_DISKS - 1\n",
    "rods = {\n",
    "    'A': list(range(NUMBER_OF_DISKS, 0, -1)),\n",
    "    'B': [],\n",
    "    'C': []\n",
    "}\n",
    "def move():\n",
    "    print(rods)\n",
    "move()"
   ]
  },
  {
   "cell_type": "markdown",
   "metadata": {},
   "source": [
    "# Step 13\n",
    "In the Tower of Hanoi puzzle, you can identify the three rods according to their purpose:\n",
    "\n",
    "- The first rod is the source, where all the disks are stacked on top of each other at the beginning of the game.\n",
    "- The second rod is an auxiliary rod, and it helps in moving the disks to the target rod.\n",
    "- The third rod is the target, where all the disks should be placed in order at the end of the game.\n",
    "\n",
    "Currently, the move() function does not take any parameters. Change the function declaration to take 4 parameters: n, source, auxiliary, and target. Then, pass NUMBER_OF_DISKS and the strings 'A', 'B', and 'C' as arguments to your function call. The order matters."
   ]
  },
  {
   "cell_type": "code",
   "execution_count": 15,
   "metadata": {},
   "outputs": [
    {
     "name": "stdout",
     "output_type": "stream",
     "text": [
      "{'A': [3, 2, 1], 'B': [], 'C': []}\n"
     ]
    }
   ],
   "source": [
    "NUMBER_OF_DISKS = 3\n",
    "number_of_moves = 2**NUMBER_OF_DISKS - 1\n",
    "rods = {\n",
    "    'A': list(range(NUMBER_OF_DISKS, 0, -1)),\n",
    "    'B': [],\n",
    "    'C': []\n",
    "}\n",
    "def move(n, source, auxiliary, target):\n",
    "    print(rods)\n",
    "\n",
    "move(NUMBER_OF_DISKS, 'A', 'B', 'C')"
   ]
  },
  {
   "cell_type": "markdown",
   "metadata": {},
   "source": [
    "# Step 16\n",
    "At the end of this project, you will create a recursive solution to the Tower of Hanoi puzzle, but now you are going to explore an iterative approach to this problem.\n",
    "\n",
    "Start by adding a for loop to your function that iterates through the number_of_moves and prints the current iteration number."
   ]
  },
  {
   "cell_type": "code",
   "execution_count": null,
   "metadata": {},
   "outputs": [],
   "source": [
    "def move(n, source, auxiliary, target):\n",
    "    # display starting configuration\n",
    "    for i in range(number_of_moves):\n",
    "        print(i)\n",
    "    print(rods)"
   ]
  },
  {
   "cell_type": "markdown",
   "metadata": {},
   "source": [
    "# Step 17\n",
    "The allowed disk movements between the rods exhibit a repetitive pattern occurring every three moves. For example, movements between rod A and rod C are allowed on the first, the fourth and the seventh move, where the remainder of the division between the move number and 3 is equal to 1.\n",
    "\n",
    "Inside the previously created for loop, replace the existing print() call with an if statement that is triggered when (i + 1) % 3 == 1. Within this if statement, print f'Move {i + 1} allowed between {source} and {target}' using an f-string. Please, note that i + 1 is the move number since i is zero during the first iteration."
   ]
  },
  {
   "cell_type": "code",
   "execution_count": 3,
   "metadata": {},
   "outputs": [
    {
     "name": "stdout",
     "output_type": "stream",
     "text": [
      "{'A': [3, 2, 1], 'B': [], 'C': []}\n",
      "Move 1 allowed between A and C\n",
      "Move 4 allowed between A and C\n",
      "Move 7 allowed between A and C\n"
     ]
    }
   ],
   "source": [
    "NUMBER_OF_DISKS = 3\n",
    "number_of_moves = 2**NUMBER_OF_DISKS - 1\n",
    "rods = {\n",
    "    'A': list(range(NUMBER_OF_DISKS, 0, -1)),\n",
    "    'B': [],\n",
    "    'C': []\n",
    "}\n",
    "def move(n, source, auxiliary, target):\n",
    "    # display starting configuration\n",
    "    print(rods)\n",
    "    for i in range(number_of_moves):\n",
    "        if (i + 1) % 3 == 1:\n",
    "            print(f'Move {i + 1} allowed between {source} and {target}')\n",
    "\n",
    "move(NUMBER_OF_DISKS, 'A', 'B', 'C')"
   ]
  },
  {
   "cell_type": "markdown",
   "metadata": {},
   "source": [
    "# Step 20\n",
    "When the remainder of the move number divided by 3 is equal to 2, the movement is allowed between 'A' and 'B' (the source and the auxiliary rods).\n",
    "\n",
    "Add an elif statement for that. Then, print the appropriate string if the condition is met."
   ]
  },
  {
   "cell_type": "code",
   "execution_count": null,
   "metadata": {},
   "outputs": [],
   "source": [
    "NUMBER_OF_DISKS = 3\n",
    "number_of_moves = 2**NUMBER_OF_DISKS - 1\n",
    "rods = {\n",
    "    'A': list(range(NUMBER_OF_DISKS, 0, -1)),\n",
    "    'B': [],\n",
    "    'C': []\n",
    "}\n",
    "def move(n, source, auxiliary, target):\n",
    "    # display starting configuration\n",
    "    print(rods)\n",
    "    for i in range(number_of_moves):\n",
    "        remainder = (i + 1) % 3\n",
    "        if remainder == 1:\n",
    "            print(f'Move {i + 1} allowed between {source} and {target}')\n",
    "        elif remainder == 2:\n",
    "            print(f'Move {i + 1} allowed between {source} and {auxiliary}')"
   ]
  },
  {
   "cell_type": "markdown",
   "metadata": {},
   "source": [
    "# Step 24\n",
    "The other case in which you have to move the disk necessarily from source to target is when the source list is not empty and the last disk in source is lower than the last disk in target.\n",
    "\n",
    "Add an elif statement to check this condition. Then, set the forward variable to True if the condition is met."
   ]
  },
  {
   "cell_type": "code",
   "execution_count": 1,
   "metadata": {},
   "outputs": [
    {
     "name": "stdout",
     "output_type": "stream",
     "text": [
      "{'A': [3, 2, 1], 'B': [], 'C': []}\n",
      "Move 1 allowed between A and C\n",
      "Moving disk 1 from A to C\n",
      "Move 2 allowed between A and B\n",
      "Move 3 allowed between B and C\n",
      "Move 4 allowed between A and C\n",
      "Moving disk 1 from A to C\n",
      "Move 5 allowed between A and B\n",
      "Move 6 allowed between B and C\n",
      "Move 7 allowed between A and C\n",
      "Moving disk 1 from A to C\n"
     ]
    }
   ],
   "source": [
    "NUMBER_OF_DISKS = 3\n",
    "number_of_moves = 2**NUMBER_OF_DISKS - 1\n",
    "rods = {\n",
    "    'A': list(range(NUMBER_OF_DISKS, 0, -1)),\n",
    "    'B': [],\n",
    "    'C': []\n",
    "}\n",
    "\n",
    "def move(n, source, auxiliary, target):\n",
    "    # display starting configuration\n",
    "    print(rods)\n",
    "    for i in range(number_of_moves):\n",
    "        remainder = (i + 1) % 3\n",
    "        if remainder == 1:\n",
    "            print(f'Move {i + 1} allowed between {source} and {target}')\n",
    "            forward = False\n",
    "            if not rods[target]:\n",
    "                forward = True\n",
    "            elif rods[source] and rods[source][-1] < rods[target][-1]:\n",
    "                forward = True # move disk from source to target when source's last disk is smaller than target's last disk\n",
    "            if forward:\n",
    "                print(f'Moving disk {rods[source][-1]} from {source} to {target}')\n",
    "        elif remainder == 2:\n",
    "            print(f'Move {i + 1} allowed between {source} and {auxiliary}')\n",
    "        elif remainder == 0:\n",
    "            print(f'Move {i + 1} allowed between {auxiliary} and {target}')\n",
    "\n",
    "# initiate call from source A to target C with auxiliary B\n",
    "move(NUMBER_OF_DISKS, 'A', 'B', 'C')"
   ]
  },
  {
   "cell_type": "markdown",
   "metadata": {},
   "source": [
    "**elif rods[source] and rods[source][-1] < rods[target][-1]:**\n",
    "                \n",
    "                forward = True\n",
    "\n",
    "Let's break down that code section step by step:\n",
    "\n",
    "**elif rods[source]:**\n",
    "\n",
    "Checks if the source rod has any disks\n",
    "Returns True if the source list is not empty\n",
    "and rods[source][-1] < rods[target][-1]:\n",
    "\n",
    "**rods[source][-1]** gets the last (topmost) disk from source rod\n",
    "\n",
    "**rods[target][-1]** gets the last (topmost) disk from target rod\n",
    "Compares if source disk is smaller than target disk\n",
    "This follows Tower of Hanoi rule where larger disks cannot be placed on smaller ones\n",
    "\n",
    "**forward = True:**\n",
    "\n",
    "When both conditions are met (source has disks AND source disk is smaller than target disk)\n",
    "Sets forward to True indicating it's valid to move disk from source to target\n",
    "This logic ensures proper disk movement following the game rules, allowing smaller disks to be placed on larger ones."
   ]
  },
  {
   "cell_type": "markdown",
   "metadata": {},
   "source": [
    "# Step 25\n",
    "Next, below the nested elif statement, add another if statement that should be executed when forward is True. Inside this conditional, print the following f-string: f'Moving disk {rods[source][-1]} from {source} to {target}'."
   ]
  },
  {
   "cell_type": "code",
   "execution_count": 2,
   "metadata": {},
   "outputs": [
    {
     "name": "stdout",
     "output_type": "stream",
     "text": [
      "{'A': [4, 3, 2, 1], 'B': [], 'C': []} \n",
      "\n",
      "Move 1 allowed between A and C\n",
      "Moving disk 1 from A to C\n",
      "{'A': [4, 3, 2], 'B': [], 'C': [1]} \n",
      "\n",
      "Move 2 allowed between A and B\n",
      "Moving disk 2 from A to B\n",
      "{'A': [4, 3], 'B': [2], 'C': [1]} \n",
      "\n",
      "Move 3 allowed between B and C\n",
      "Moving disk 1 from C to B\n",
      "{'A': [4, 3], 'B': [2, 1], 'C': []} \n",
      "\n",
      "Move 4 allowed between A and C\n",
      "Moving disk 3 from A to C\n",
      "{'A': [4], 'B': [2, 1], 'C': [3]} \n",
      "\n",
      "Move 5 allowed between A and B\n",
      "Moving disk 1 from B to A\n",
      "{'A': [4, 1], 'B': [2], 'C': [3]} \n",
      "\n",
      "Move 6 allowed between B and C\n",
      "Moving disk 2 from B to C\n",
      "{'A': [4, 1], 'B': [], 'C': [3, 2]} \n",
      "\n",
      "Move 7 allowed between A and C\n",
      "Moving disk 1 from A to C\n",
      "{'A': [4], 'B': [], 'C': [3, 2, 1]} \n",
      "\n",
      "Move 8 allowed between A and B\n",
      "Moving disk 4 from A to B\n",
      "{'A': [], 'B': [4], 'C': [3, 2, 1]} \n",
      "\n",
      "Move 9 allowed between B and C\n",
      "Moving disk 1 from C to B\n",
      "{'A': [], 'B': [4, 1], 'C': [3, 2]} \n",
      "\n",
      "Move 10 allowed between A and C\n",
      "Moving disk 2 from C to A\n",
      "{'A': [2], 'B': [4, 1], 'C': [3]} \n",
      "\n",
      "Move 11 allowed between A and B\n",
      "Moving disk 1 from B to A\n",
      "{'A': [2, 1], 'B': [4], 'C': [3]} \n",
      "\n",
      "Move 12 allowed between B and C\n",
      "Moving disk 3 from C to B\n",
      "{'A': [2, 1], 'B': [4, 3], 'C': []} \n",
      "\n",
      "Move 13 allowed between A and C\n",
      "Moving disk 1 from A to C\n",
      "{'A': [2], 'B': [4, 3], 'C': [1]} \n",
      "\n",
      "Move 14 allowed between A and B\n",
      "Moving disk 2 from A to B\n",
      "{'A': [], 'B': [4, 3, 2], 'C': [1]} \n",
      "\n",
      "Move 15 allowed between B and C\n",
      "Moving disk 1 from C to B\n",
      "{'A': [], 'B': [4, 3, 2, 1], 'C': []} \n",
      "\n"
     ]
    }
   ],
   "source": [
    "NUMBER_OF_DISKS = 4\n",
    "number_of_moves = 2**NUMBER_OF_DISKS - 1\n",
    "rods = {\n",
    "    'A': list(range(NUMBER_OF_DISKS, 0, -1)),\n",
    "    'B': [],\n",
    "    'C': []\n",
    "}\n",
    "\n",
    "def make_allowed_move(rod1, rod2):    \n",
    "    forward = False\n",
    "    if not rods[rod2]:\n",
    "        forward = True\n",
    "    elif rods[rod1] and rods[rod1][-1] < rods[rod2][-1]:\n",
    "        forward = True      \n",
    "                \n",
    "    if forward:\n",
    "        print(f'Moving disk {rods[rod1][-1]} from {rod1} to {rod2}')\n",
    "        rods[rod2].append(rods[rod1].pop())\n",
    "    else:\n",
    "        print(f'Moving disk {rods[rod2][-1]} from {rod2} to {rod1}')\n",
    "        rods[rod1].append(rods[rod2].pop())\n",
    "    \n",
    "    # display our progress\n",
    "    print(rods, '\\n')\n",
    "\n",
    "def move(n, source, auxiliary, target):\n",
    "    # display starting configuration\n",
    "    print(rods, '\\n')\n",
    "    for i in range(number_of_moves):\n",
    "        remainder = (i + 1) % 3\n",
    "        if remainder == 1:\n",
    "            print(f'Move {i + 1} allowed between {source} and {target}')\n",
    "            make_allowed_move(source, target)\n",
    "        elif remainder == 2:\n",
    "            print(f'Move {i + 1} allowed between {source} and {auxiliary}')\n",
    "            make_allowed_move(source, auxiliary)\n",
    "        elif remainder == 0:\n",
    "            print(f'Move {i + 1} allowed between {auxiliary} and {target}')\n",
    "            make_allowed_move(auxiliary, target)\n",
    "\n",
    "# initiate call from source A to target C with auxiliary B\n",
    "move(NUMBER_OF_DISKS, 'A', 'B', 'C')"
   ]
  },
  {
   "cell_type": "markdown",
   "metadata": {},
   "source": [
    "# Step 38\n",
    "The conditionals you wrote previously are only valid for odd numbers of disks.\n",
    "\n",
    "Add a nested if to execute when n is odd, and add one indent level to your print() and make_allowed_move() calls."
   ]
  }
 ],
 "metadata": {
  "kernelspec": {
   "display_name": "venv_pandas",
   "language": "python",
   "name": "python3"
  },
  "language_info": {
   "codemirror_mode": {
    "name": "ipython",
    "version": 3
   },
   "file_extension": ".py",
   "mimetype": "text/x-python",
   "name": "python",
   "nbconvert_exporter": "python",
   "pygments_lexer": "ipython3",
   "version": "3.12.8"
  }
 },
 "nbformat": 4,
 "nbformat_minor": 2
}
