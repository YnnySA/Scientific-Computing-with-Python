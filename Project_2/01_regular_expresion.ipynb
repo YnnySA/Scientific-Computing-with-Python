{
 "cells": [
  {
   "cell_type": "markdown",
   "metadata": {},
   "source": [
    "### Step 1\n",
    "A Python module is a file containing code designed to perform specific tasks. The Python standard library contains many modules that you can import and use in your code. You can achieve this by using the import statement followed by the name of the module.\n",
    "\n",
    "Start this project by importing the string module."
   ]
  },
  {
   "cell_type": "code",
   "execution_count": 10,
   "metadata": {},
   "outputs": [
    {
     "name": "stdout",
     "output_type": "stream",
     "text": [
      "T]T48!iT\n"
     ]
    }
   ],
   "source": [
    "import re\n",
    "import secrets\n",
    "import string\n",
    "\n",
    "\n",
    "def generate_password(length=16, nums=1, special_chars=1, uppercase=1, lowercase=1):\n",
    "    # Define the possible characters for the password\n",
    "    letters = string.ascii_letters\n",
    "    digits = string.digits\n",
    "    symbols = string.punctuation\n",
    "\n",
    "    # Combine all characters\n",
    "    all_characters = letters + digits + symbols\n",
    "\n",
    "    while True:\n",
    "        password = ''\n",
    "        # Generate password\n",
    "        for _ in range(length):\n",
    "            password += secrets.choice(all_characters)\n",
    "       \n",
    "        constraints = [\n",
    "            (nums, r'\\d'),\n",
    "            (lowercase, r'[a-z]'),\n",
    "            (uppercase, r'[A-Z]'),            \n",
    "            (special_chars, fr'[{symbols}]')            \n",
    "        ]\n",
    "        \n",
    "        # Check constraints        \n",
    "        if all(\n",
    "            constraint <= len(re.findall(pattern, password))\n",
    "            for constraint, pattern in constraints\n",
    "        ):\n",
    "            break\n",
    "\n",
    "    return password\n",
    "new_password = generate_password(nums=1, length=8, special_chars=1, uppercase=1, lowercase=1)\n",
    "print(new_password)"
   ]
  },
  {
   "cell_type": "markdown",
   "metadata": {},
   "source": [
    "### Step 66\n",
    "It works, but there are still a couple of things you can improve. First of all, calling a function with 5 arguments can create confusion on which value will be assigned to which parameter.\n",
    "\n",
    "You can call a function using keyword arguments, that is writing the parameter name explicitly followed by the assignment operator and the value. For example:"
   ]
  },
  {
   "cell_type": "code",
   "execution_count": 1,
   "metadata": {},
   "outputs": [
    {
     "data": {
      "text/plain": [
       "8"
      ]
     },
     "execution_count": 1,
     "metadata": {},
     "output_type": "execute_result"
    }
   ],
   "source": [
    "def add(x, y):\n",
    "    return x + y\n",
    "\n",
    "add(x=1, y=7) # 8"
   ]
  },
  {
   "cell_type": "markdown",
   "metadata": {},
   "source": [
    "## Final Code"
   ]
  },
  {
   "cell_type": "code",
   "execution_count": null,
   "metadata": {},
   "outputs": [],
   "source": [
    "import re\n",
    "import secrets\n",
    "import string\n",
    "\n",
    "\n",
    "def generate_password(length=16, nums=1, special_chars=1, uppercase=1, lowercase=1):\n",
    "\n",
    "    # Define the possible characters for the password\n",
    "    letters = string.ascii_letters\n",
    "    digits = string.digits\n",
    "    symbols = string.punctuation\n",
    "\n",
    "    # Combine all characters\n",
    "    all_characters = letters + digits + symbols\n",
    "\n",
    "    while True:\n",
    "        password = ''\n",
    "        # Generate password\n",
    "        for _ in range(length):\n",
    "            password += secrets.choice(all_characters)\n",
    "        \n",
    "        constraints = [\n",
    "            (nums, r'\\d'),\n",
    "            (special_chars, fr'[{symbols}]'),\n",
    "            (uppercase, r'[A-Z]'),\n",
    "            (lowercase, r'[a-z]')\n",
    "        ]\n",
    "\n",
    "        # Check constraints        \n",
    "        if all(\n",
    "            constraint <= len(re.findall(pattern, password))\n",
    "            for constraint, pattern in constraints\n",
    "        ):\n",
    "            break\n",
    "            \n",
    "    \n",
    "    return password\n",
    "if __name__ == '__main__':\n",
    "    new_password = generate_password()\n",
    "    print('Generated password:', new_password)\n"
   ]
  }
 ],
 "metadata": {
  "kernelspec": {
   "display_name": "venv_pandas",
   "language": "python",
   "name": "python3"
  },
  "language_info": {
   "codemirror_mode": {
    "name": "ipython",
    "version": 3
   },
   "file_extension": ".py",
   "mimetype": "text/x-python",
   "name": "python",
   "nbconvert_exporter": "python",
   "pygments_lexer": "ipython3",
   "version": "3.12.8"
  }
 },
 "nbformat": 4,
 "nbformat_minor": 2
}
