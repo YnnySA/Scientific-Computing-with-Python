{
 "cells": [
  {
   "cell_type": "markdown",
   "metadata": {},
   "source": [
    "El algoritmo de ordenamiento por fusión es un algoritmo de ordenamiento basado en el principio de dividir y vencer.\n",
    "\n",
    "En este proyecto, aprenderá a interactuar con estructuras de datos ordenando una lista de números aleatorios mediante el algoritmo de ordenamiento por fusión."
   ]
  },
  {
   "cell_type": "markdown",
   "metadata": {},
   "source": [
    "# Step 1\n",
    "In this project, you'll learn data structures by building the merge sort algorithm.\n",
    "\n",
    "This is a sorting algorithm that uses the divide-and-conquer principle to sort collections of data. That is, it 'divides' a collection into smaller sub-parts, and 'conquers' the sub-parts by sorting them independently, then merges the sorted sub-parts.\n",
    "\n",
    "Create a function called merge_sort. This function will handle the task of sorting a list of numbers.\n",
    "\n",
    "Use the pass keyword in the function body."
   ]
  },
  {
   "cell_type": "markdown",
   "metadata": {},
   "source": [
    "# Step 3\n",
    "The merge sort algorithm mainly performs three actions:\n",
    "\n",
    "- Divide an unsorted sequence of items into sub-parts\n",
    "- Sort the items in the sub-parts\n",
    "- Merge the sorted sub-parts\n",
    "\n",
    "The above happens recursively until the sub-parts are merged into the complete sorted sequence. Let's start by dividing the sequence.\n",
    "\n",
    "First, replace the pass keyword with a variable middle_point. Use the integer division operator (//) to divide the length of the array list by 2 and assign the result to your new middle_point variable. Remember to indent your code."
   ]
  },
  {
   "cell_type": "markdown",
   "metadata": {},
   "source": [
    "# Step 10\n",
    "Now it's time to sort and merge the lists (left_part and right_part) into the original array.\n",
    "\n",
    "You can do this by comparing elements on both lists, and merging the smaller element to the main list. You are going to do this comparison for all the indexes in left_part and right_part.\n",
    "\n",
    "Create three variables: left_array_index, right_array_index, and sorted_index and set their values to 0. These variables will help you keep track of each index during the sorting process."
   ]
  },
  {
   "cell_type": "markdown",
   "metadata": {},
   "source": [
    "# Step 11\n",
    "Inside your function, create a while loop that compares an element in left_part to an element in right_part, and merges the smaller element to the main array list.\n",
    "\n",
    "Create two conditions for the loop: one that checks whether the left_array_index is less than the length of left_part and another condition that checks whether right_array_index is less than the length of right_part."
   ]
  },
  {
   "cell_type": "markdown",
   "metadata": {},
   "source": [
    "# Step 28\n",
    "You can use the __name__ variable to determine if a Python script is being run as the main program or if it is being imported as a module (code written in another Python file).\n",
    "\n",
    "If the value of __name__ is set to '__main__', it implies that the current script is the main program, and not a module.\n",
    "\n",
    "In this project, you'll use the current script as the main program.\n",
    "\n",
    "Create an if statement that checks whether the value of __name__ is '__main__'.\n",
    "\n",
    "Use the pass keyword in the body of the if statement."
   ]
  },
  {
   "cell_type": "markdown",
   "metadata": {},
   "source": [
    "# Paso 28\n",
    "Puedes usar la variable __name__ para determinar si un script de Python se está ejecutando como el programa principal o si se está importando como un módulo (código escrito en otro archivo de Python).\n",
    "\n",
    "Si el valor de __name__ se establece en '__main__', implica que el script actual es el programa principal y no un módulo.\n",
    "\n",
    "En este proyecto, usarás el script actual como el programa principal.\n",
    "\n",
    "Crea una declaración if que verifique si el valor de __name__ es '__main__'.\n",
    "\n",
    "Usa la palabra clave pass en el cuerpo de la declaración if."
   ]
  },
  {
   "cell_type": "code",
   "execution_count": 4,
   "metadata": {},
   "outputs": [
    {
     "name": "stdout",
     "output_type": "stream",
     "text": [
      "Unsorted array: \n",
      "[4, 10, 6, 14, 2, 1, 8, 5]\n",
      "Sorted array: [1, 2, 4, 5, 6, 8, 10, 14]\n"
     ]
    }
   ],
   "source": [
    "def merge_sort(array):\n",
    "    if len(array) <= 1:\n",
    "        return\n",
    "    \n",
    "    middle_point = len(array) // 2\n",
    "    left_part = array[:middle_point]\n",
    "    right_part = array[middle_point:]\n",
    "\n",
    "    merge_sort(left_part)\n",
    "    merge_sort(right_part)\n",
    "\n",
    "    left_array_index = 0\n",
    "    right_array_index = 0\n",
    "    sorted_index = 0\n",
    "\n",
    "    while left_array_index < len(left_part) and right_array_index < len(right_part):\n",
    "        if left_part[left_array_index] < right_part[right_array_index]:\n",
    "            array[sorted_index] = left_part[left_array_index]\n",
    "            left_array_index += 1\n",
    "        else:\n",
    "            array[sorted_index] = right_part[right_array_index]\n",
    "            right_array_index += 1\n",
    "        sorted_index += 1\n",
    "\n",
    "    while left_array_index < len(left_part):\n",
    "        array[sorted_index] = left_part[left_array_index]\n",
    "        left_array_index += 1\n",
    "        sorted_index += 1\n",
    "    \n",
    "    while right_array_index < len(right_part):\n",
    "        array[sorted_index] = right_part[right_array_index]\n",
    "        right_array_index += 1\n",
    "        sorted_index += 1\n",
    "if __name__ == '__main__':\n",
    "    numbers = [4, 10, 6, 14, 2, 1, 8, 5]\n",
    "    print('Unsorted array: ')\n",
    "    print(numbers)\n",
    "    merge_sort(numbers)\n",
    "    print('Sorted array: ' + str(numbers))"
   ]
  }
 ],
 "metadata": {
  "kernelspec": {
   "display_name": "venv_pandas",
   "language": "python",
   "name": "python3"
  },
  "language_info": {
   "codemirror_mode": {
    "name": "ipython",
    "version": 3
   },
   "file_extension": ".py",
   "mimetype": "text/x-python",
   "name": "python",
   "nbconvert_exporter": "python",
   "pygments_lexer": "ipython3",
   "version": "3.12.8"
  }
 },
 "nbformat": 4,
 "nbformat_minor": 2
}
