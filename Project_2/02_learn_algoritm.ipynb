{
 "cells": [
  {
   "cell_type": "code",
   "execution_count": 1,
   "metadata": {},
   "outputs": [
    {
     "data": {
      "text/plain": [
       "'Michael'"
      ]
     },
     "execution_count": 1,
     "metadata": {},
     "output_type": "execute_result"
    }
   ],
   "source": [
    "# Step 2\n",
    "#Dictionaries store data in the form of key-value pairs. A key is separated from the correspondent value by a colon. And each key-value pair is separated from the following pair by a comma:\n",
    "\n",
    "#Example Code\n",
    "  \n",
    "my_dict = {\n",
    "    'name': 'Michael',\n",
    "    'occupation': 'Lumberjack'\n",
    "\n",
    "}\n",
    "# Add another key 'age' to your dictionary and give it the integer number 2 as value.\n",
    "\n",
    "# Step 4\n",
    "#You can access the data stored in a dictionary through its keys:\n",
    "my_dict['name']"
   ]
  },
  {
   "cell_type": "code",
   "execution_count": 2,
   "metadata": {},
   "outputs": [
    {
     "name": "stdout",
     "output_type": "stream",
     "text": [
      "2\n"
     ]
    }
   ],
   "source": [
    "copper = {\n",
    "    'species': 'guinea pig',\n",
    "    'age': 2\n",
    "}\n",
    "print(copper['age'])"
   ]
  },
  {
   "cell_type": "code",
   "execution_count": null,
   "metadata": {},
   "outputs": [],
   "source": [
    "# Step 6\n",
    "# To add a new key-value pair after declaring a dictionary, you can indicate the key in the same way you would access an existing key, and set the value of the new key by using the assignment operator:\n",
    "my_dict = {\n",
    "    'name': 'Michael',\n",
    "    'occupation': 'Lumberjack'\n",
    "}\n",
    "\n",
    "my_dict['country'] = 'Canada'\n",
    "\n",
    "# Step 8\n",
    "#The same syntax can be used to change the value of an existing key.\n",
    "\n",
    "#Just before the print() call, access the 'species' key and reassign its value to 'Cavia porcellus'.\n",
    "\n"
   ]
  },
  {
   "cell_type": "code",
   "execution_count": 4,
   "metadata": {},
   "outputs": [
    {
     "name": "stdout",
     "output_type": "stream",
     "text": [
      "{'species': 'Cavia porcellus', 'age': 2, 'food': 'hay'}\n"
     ]
    }
   ],
   "source": [
    "copper = {\n",
    "    'species': 'guinea pig',\n",
    "    'age': 2\n",
    "}\n",
    "copper['food'] = 'hay'\n",
    "copper[\"species\"] = \"Cavia porcellus\"\n",
    "print(copper)"
   ]
  },
  {
   "cell_type": "code",
   "execution_count": null,
   "metadata": {},
   "outputs": [],
   "source": [
    "# Step 9\n",
    "# To iterate over the keys of a dictionary, you can simply put the dictionary into a for loop. The code below would print each key in the dictionary dict:\n",
    "\n",
    "# Example Code:\n",
    "for i in dict:\n",
    "   print(i)\n",
    "#Replace the print() call with a for loop that iterates over copper and prints each key."
   ]
  },
  {
   "cell_type": "code",
   "execution_count": 5,
   "metadata": {},
   "outputs": [
    {
     "name": "stdout",
     "output_type": "stream",
     "text": [
      "species\n",
      "age\n",
      "food\n"
     ]
    }
   ],
   "source": [
    "copper = {\n",
    "    'species': 'guinea pig',\n",
    "    'age': 2\n",
    "}\n",
    "copper['food'] = 'hay'\n",
    "copper['species'] = 'Cavia porcellus'\n",
    "\n",
    "for i in copper:\n",
    "    print(i)"
   ]
  },
  {
   "cell_type": "code",
   "execution_count": 6,
   "metadata": {},
   "outputs": [
    {
     "name": "stdout",
     "output_type": "stream",
     "text": [
      "Cavia porcellus\n",
      "2\n",
      "hay\n"
     ]
    }
   ],
   "source": [
    "# Step 10\n",
    "#If you want to iterate over the values of the dictionary keys, one way is to use the .values() method.\n",
    "\n",
    "#Modify your for loop to iterate over copper.values() instead of copper and look at the output.\n",
    "copper = {\n",
    "    'species': 'guinea pig',\n",
    "    'age': 2\n",
    "}\n",
    "copper['food'] = 'hay'\n",
    "copper['species'] = 'Cavia porcellus'\n",
    "\n",
    "for i in copper.values():\n",
    "    print(i)"
   ]
  },
  {
   "cell_type": "code",
   "execution_count": 7,
   "metadata": {},
   "outputs": [
    {
     "name": "stdout",
     "output_type": "stream",
     "text": [
      "('species', 'Cavia porcellus')\n",
      "('age', 2)\n",
      "('food', 'hay')\n"
     ]
    }
   ],
   "source": [
    "# Step 11\n",
    "# Finally, if you want to be able to go through the key-value pairs, you can use the .items() method.\n",
    "\n",
    "# Modify your for loop to iterate over copper.items() instead of copper.values().\n",
    "copper = {\n",
    "    'species': 'guinea pig',\n",
    "    'age': 2\n",
    "}\n",
    "copper['food'] = 'hay'\n",
    "copper['species'] = 'Cavia porcellus'\n",
    "\n",
    "for i in copper.items():\n",
    "    print(i)"
   ]
  },
  {
   "cell_type": "code",
   "execution_count": null,
   "metadata": {},
   "outputs": [],
   "source": [
    "# Step 12\n",
    "# As you can see from the output, .items() creates a data structures that stores each key-value pair in a distinct tuple. To iterate over the elements in those tuples you can add a second loop variable:\n",
    "\n",
    "# Example Code\n",
    "for i, j in dict.items():\n",
    "    print(i, j)\n",
    "# Modify your for loop to take two loop variables and print both of them inside the loop body.\n"
   ]
  },
  {
   "cell_type": "code",
   "execution_count": 9,
   "metadata": {},
   "outputs": [
    {
     "name": "stdout",
     "output_type": "stream",
     "text": [
      "species Cavia porcellus\n",
      "age 2\n",
      "food hay\n"
     ]
    }
   ],
   "source": [
    "copper = {\n",
    "    'species': 'guinea pig',\n",
    "    'age': 2\n",
    "}\n",
    "copper['food'] = 'hay'\n",
    "copper['species'] = 'Cavia porcellus'\n",
    "\n",
    "for i, j in copper.items():\n",
    "    print(i, j)"
   ]
  },
  {
   "cell_type": "code",
   "execution_count": null,
   "metadata": {},
   "outputs": [],
   "source": [
    "#Step 13\n",
    "#You can remove a key-value pair from a dictionary by using the del keyword:\n",
    "\n",
    "#Example Code\n",
    "my_dict = {\n",
    "    'name': 'Michael',\n",
    "    'occupation': 'Lumberjack'\n",
    "}\n",
    "\n",
    "del my_dict['occupation']\n",
    "\n",
    "# Just before your for loop, use the del keyword to delete the 'age' key and its value from copper."
   ]
  },
  {
   "cell_type": "code",
   "execution_count": 10,
   "metadata": {},
   "outputs": [
    {
     "name": "stdout",
     "output_type": "stream",
     "text": [
      "species Cavia porcellus\n",
      "food hay\n"
     ]
    }
   ],
   "source": [
    "copper = {\n",
    "    'species': 'guinea pig',\n",
    "    'age': 2\n",
    "}\n",
    "copper['food'] = 'hay'\n",
    "copper['species'] = 'Cavia porcellus'\n",
    "del copper['age']\n",
    "for i, j in copper.items():\n",
    "    print(i, j)"
   ]
  },
  {
   "cell_type": "code",
   "execution_count": null,
   "metadata": {},
   "outputs": [],
   "source": [
    "#Step 14\n",
    "#Now that you reviewed the basic aspects of dictionaries, you can proceed to build the shortest path algorithm.\n",
    "\n",
    "#Delete every line of code after the declaration of the copper dictionary.\n",
    "#Step 15\n",
    "#Graphs are data structures representing relations between pairs of elements. These elements, called nodes, can be real-life objects, entities, points in space or others. The connections between the nodes are called the edges.\n",
    "\n",
    "#Here's a visual representation of a graph:\n"
   ]
  },
  {
   "attachments": {
    "image.png": {
     "image/png": "[encoded data removed]"
    }
   },
   "cell_type": "markdown",
   "metadata": {},
   "source": [
    "![image.png](attachment:image.png)"
   ]
  },
  {
   "cell_type": "code",
   "execution_count": 11,
   "metadata": {},
   "outputs": [],
   "source": [
    "# Rename the copper dictionary into my_graph. This will represent the graph to test your algorithm.\n",
    "# Step 16\n",
    "# For example, a graph can be used to represent two points in the space, A and B, connected by a path. A graph like this will be made of two nodes connected by an edge.\n",
    "\n",
    "# Replace the existent 'species' key with the strings 'A'. Then, replace the correspondent value with the string 'B' to represent the connection between the 'A' and 'B' nodes.\n",
    "\n",
    "# Step 17\n",
    "# Replace the 'age' key with the string 'B' and set its value to the string 'A' to represent the connection between the nodes in both directions.\n",
    "\n",
    "# Step 18\n",
    "#Add another node connected to B to your graph and call it C.\n",
    "\n",
    "#Modify your existing dictionary to represent this arrangement: add another key 'C' to my_graph and give it the value of the string 'B'.\n",
    "\n",
    "#Also, change the value of the existing 'B' key into the list ['A', 'C'] to represent the multiple connections of your 'B' node.\n",
    "# Step 18\n",
    "#Add another node connected to B to your graph and call it C.\n",
    "\n",
    "#Modify your existing dictionary to represent this arrangement: add another key 'C' to my_graph and give it the value of the string 'B'.\n",
    "\n",
    "#Also, change the value of the existing 'B' key into the list ['A', 'C'] to represent the multiple connections of your 'B' node.\n",
    "\n",
    "# Step 19\n",
    "# Add one last node, 'D', which is connected with 'A' and 'C'.\n",
    "\n",
    "# Modify your dictionary to represent this structure. Again, use a list to represent multiple connections.\n",
    "\n",
    "#Step 19\n",
    "# Add one last node, 'D', which is connected with 'A' and 'C'.\n",
    "\n",
    "# Modify your dictionary to represent this structure. Again, use a list to represent multiple connections."
   ]
  },
  {
   "cell_type": "code",
   "execution_count": 12,
   "metadata": {},
   "outputs": [],
   "source": [
    "my_graph = {\n",
    "    'A': ['B', 'D'],\n",
    "    'B': ['A', 'C'],\n",
    "    'C': ['B', 'D'],\n",
    "    'D': ['A', 'C']\n",
    "    \n",
    "}"
   ]
  },
  {
   "cell_type": "code",
   "execution_count": 1,
   "metadata": {},
   "outputs": [],
   "source": [
    "# Step 20\n",
    "#A graph is called a weighted graph when its edges are associated with weights, representing a distance, time or other quantitative value.\n",
    "\n",
    "#In your case, these weights will be the distances between each node, or point in space. To represent a weighted graph you can modify your dictionary, using a list of tuples for each value.\n",
    "\n",
    "#The first element in the tuple will be the connected node, and the second element will be an integer number indicating the distance.\n",
    "\n",
    "#Modify my_graph['A'] into a list of tuples, considering that the A-B distance is 3 and the A-D distance is 1.\n",
    "\n",
    "my_graph = {\n",
    "    'A': [('B', 3), ('D', 1)],\n",
    "    'B': ['A', 'C'],\n",
    "    'C': ['B', 'D'], \n",
    "    'D': ['A', 'C']\n",
    "}\n",
    "\n",
    "# Step 21\n",
    "#Now modify my_graph['B'] into a list of tuples, where the first element in the tuple is the connected node, and the second element is the distance. The B-C distance is 4.\n",
    "\n",
    "# Step 22\n",
    "# In the same way, modify the remaining two lists considering that the C-D distance is 7."
   ]
  },
  {
   "cell_type": "code",
   "execution_count": null,
   "metadata": {},
   "outputs": [],
   "source": [
    "my_graph = {\n",
    "    'A': [('B', 3), ('D', 1)],\n",
    "    'B': [('A', 3), ('C', 4)],\n",
    "    'C': [('B', 4), ('D', 7)],\n",
    "    'D': [('A', 1), ('C', 7)]\n",
    "}"
   ]
  },
  {
   "cell_type": "code",
   "execution_count": null,
   "metadata": {},
   "outputs": [],
   "source": [
    "# Step 23\n",
    "# Now you are going to start developing the algorithm to calculate the shortest path between each node in your new graph.\n",
    "\n",
    "# Declare an empty function called shortest_path. Use the pass keyword to fill the function body.\n",
    "\n",
    "# Step 24\n",
    "# The algorithm will start at a specified node. Then it will explore the graph to find the shortest path between the starting node, or source, and all the other nodes.\n",
    "\n",
    "# For that your function needs two parameters: graph, and start. Add them to your function declaration.\n",
    "\n",
    "# Step 25\n",
    "# To keep track of the visited nodes, you need a list of all the nodes in the graph. Once a node is visited, it will be removed from that list.\n",
    "\n",
    "# Now, replace the pass keyword with a variable named unvisited and assign it an empty list.\n",
    "\n",
    "# Step 26\n",
    "#Create a for loop to iterate over your graph, and use the .append() method to add each node to the end of the unvisited list."
   ]
  },
  {
   "cell_type": "code",
   "execution_count": null,
   "metadata": {},
   "outputs": [],
   "source": [
    "my_graph = {\n",
    "    'A': [('B', 3), ('D', 1)],\n",
    "    'B': [('A', 3), ('C', 4)],\n",
    "    'C': [('B', 4), ('D', 7)],\n",
    "    'D': [('A', 1), ('C', 7)]\n",
    "}\n",
    "def shortest_path(graph, start):\n",
    "    unvisited = []\n",
    "    for i in graph:\n",
    "        unvisited.append(i)"
   ]
  },
  {
   "cell_type": "code",
   "execution_count": null,
   "metadata": {},
   "outputs": [],
   "source": [
    "# Step 27\n",
    "# While the algorithm explores the graph, it should keep track of the currently known shortest distance between the starting node and the other nodes.\n",
    "\n",
    "# Before your for loop, create a new variable named distances and assign it an empty dictionary.\n",
    "\n",
    "# Step 28\n",
    "# The distance from the starting node is zero, because the algorithm begins its assessment right from there.\n",
    "\n",
    "# After appending node to unvisited in your loop, create an if statement that triggers if the node is equal to the starting node. Then assign 0 to that node inside the distances dictionary.\n",
    "\n",
    "my_graph = {\n",
    "    'A': [('B', 3), ('D', 1)],\n",
    "    'B': [('A', 3), ('C', 4)],\n",
    "    'C': [('B', 4), ('D', 7)],\n",
    "    'D': [('A', 1), ('C', 7)]\n",
    "}\n",
    "def shortest_path(graph, start):\n",
    "    unvisited = []\n",
    "    distances = {}\n",
    "    for node in graph:\n",
    "        unvisited.append(node)\n",
    "        if node == start:\n",
    "            distances[node] = 0        "
   ]
  },
  {
   "cell_type": "code",
   "execution_count": 4,
   "metadata": {},
   "outputs": [
    {
     "name": "stdout",
     "output_type": "stream",
     "text": [
      "Unvisited: ['A', 'B', 'C', 'D']\n",
      "Distances: {'A': 0, 'B': inf, 'C': inf, 'D': inf}\n"
     ]
    }
   ],
   "source": [
    "# Step 29\n",
    "# At the beginning, all the other nodes in the graph are considered to be at infinite distance from the source node, because the distance has not been determined yet.\n",
    "\n",
    "# Create an else clause and assign an infinite value to the node in the distances dictionary. For that, use the float() function with the string 'inf' as argument to generate a floating point number representing the positive infinity.\n",
    "\n",
    "# Step 30\n",
    "# After your for loop, add a print() call and pass in the following string to see the values of the variables you have created: f'Unvisited: {unvisited}\\nDistances: {distances}'.\n",
    "\n",
    "# Step 31\n",
    "# Now, call your function passing my_graph and 'A' as the arguments\n",
    "\n",
    "my_graph = {\n",
    "    'A': [('B', 3), ('D', 1)],\n",
    "    'B': [('A', 3), ('C', 4)],\n",
    "    'C': [('B', 4), ('D', 7)],\n",
    "    'D': [('A', 1), ('C', 7)]\n",
    "}\n",
    "\n",
    "def shortest_path(graph, start):\n",
    "    unvisited = []\n",
    "    distances = {}\n",
    "    for node in graph:\n",
    "        unvisited.append(node)\n",
    "        if node == start:\n",
    "            distances[node] = 0\n",
    "        else:\n",
    "            distances[node] = float('inf')\n",
    "    print(f'Unvisited: {unvisited}\\nDistances: {distances}')\n",
    "\n",
    "shortest_path(my_graph, 'A')"
   ]
  },
  {
   "cell_type": "code",
   "execution_count": null,
   "metadata": {},
   "outputs": [],
   "source": [
    "# Step 32\n",
    "# All the distances in distances are set to infinite, except for the starting node. The unvisited list contains all the nodes in your graph. But actually, you don't need that for loop to achieve this result.\n",
    "\n",
    "# Remove your for loop with its entire body.\n",
    "\n",
    "# Step 33\n",
    "# The list() type constructor enables you to build a list from an iterable.\n",
    "\n",
    "# Modify the assignment of your unvisited variable to use list(), and pass graph as the iterable.\n",
    "\n",
    "# Step 34\n",
    "#With a dictionary comprehension, you can create a dictionary starting from an existing dictionary:\n",
    "\n",
    "#Example Code\n",
    "{key: val for key in dict}\n",
    "\n",
    "# In the example above, val is the value that key will have in the new dictionary, and dict is the existing dictionary.\n",
    "\n",
    "# You want to keep track of the paths between the starting node and each other node.\n",
    "\n",
    "# After the distances variable, create a paths variable and assign it a dictionary with all the keys from graph. Assign an empty list to each key and use a dictionary comprehension to build your dictionary.\n",
    "\n",
    "\n",
    "# Step 35\n",
    "#Dictionary comprehensions support conditional if/else syntax too:\n",
    "\n",
    "#Example Code:\n",
    "{key: val_1 if condition else val_2 for key in dict}\n",
    "\n",
    "#In the example above, dict is the existing dictionary. When condition evaluates to True, key will have the value val_1 , otherwise val_2.\n",
    "\n",
    "#Use a dictionary comprehension to create a dictionary based on graph and assign it to the distances variable. Give the key a value of zero if the node is equal to the starting node, and infinite otherwise. Use float('inf') to achieve the latter.\n",
    "\n",
    "# Step 36\n",
    "#Since the algorithm begins its assessment from the starting node, after creating the paths dictionary, you need to add the starting node to its own list in the paths dictionary.\n",
    "\n",
    "#Use the .append() method to append start to the paths[start] list.\n",
    "\n",
    "# Step 37\n",
    "# Add \\nPaths: {paths} at the end of the f-string passed to the print call, so that it prints the paths variable, too.\n",
    "\n",
    "# Step 38\n",
    "\n",
    "#Your function is going to explore all the nodes connected to the starting node. It will calculate the shortest paths for all of them. Then, it will remove the starting node from the unvisited nodes.\n",
    "\n",
    "#Next, the closest neighbor node will be visited and the process will be repeated until all the nodes are visited.\n",
    "\n",
    "#From now on, you are going to work on the main loop that explores the nodes in the graph. To avoid issues with running an infinite loop during the algorithm development, turn your function call into a comment.\n",
    "\n",
    "# Step 39\n",
    "# Before the print call, create a while loop that runs while unvisited is not empty. Use the pass keyword to fill the loop body. \n",
    "\n",
    "# Step 40\n",
    "# Inside the while loop, the first thing to do is define the current node to visit. For that you can use the min() function. It returns the smallest item from the iterable passed as the argument.\n",
    "\n",
    "#Remove pass, then create a variable called current and assign it min(unvisited).\n",
    "\n",
    "# Step 41\n",
    "# min() takes also a keyword-only argument. Passing a function as an additional argument to min(), you can modify the way the list items are compared.\n",
    "\n",
    "# The result of the line you've just written in the previous step is the node that comes first in alphabetical order. Instead you want to select the unvisited node having the smallest distance from the starting node.\n",
    "\n",
    "# Pass key=distances.get as the second argument to your min() call. In this way, the comparison will take place depending on the value each unvisited list item has inside the distances dictionary."
   ]
  },
  {
   "cell_type": "code",
   "execution_count": null,
   "metadata": {},
   "outputs": [
    {
     "name": "stdout",
     "output_type": "stream",
     "text": [
      "Unvisited: ['A', 'B', 'C', 'D']\n",
      "Distances: {'A': 0, 'B': inf, 'C': inf, 'D': inf}\n",
      "Paths: {'A': ['A'], 'B': [], 'C': [], 'D': []}\n"
     ]
    }
   ],
   "source": [
    "my_graph = {\n",
    "    'A': [('B', 3), ('D', 1)],\n",
    "    'B': [('A', 3), ('C', 4)],\n",
    "    'C': [('B', 4), ('D', 7)],\n",
    "    'D': [('A', 1), ('C', 7)]\n",
    "}\n",
    "def shortest_path(graph, start):\n",
    "    unvisited = list(graph)\n",
    "    distances = {node: 0 if node == start else float('inf') for node in graph}\n",
    "    paths = {node: [] for node in graph}\n",
    "    paths[start].append(start)\n",
    "    print(f'Unvisited: {unvisited}\\nDistances: {distances}\\nPaths: {paths}')\n",
    "    \n",
    "    while unvisited:\n",
    "        current = min(unvisited, key=distances.get)\n",
    "        for node, distance in graph[current]:\n",
    "            if distance + distances[current] < distances[node]:\n",
    "                distances[node] = distance + distances[current]\n",
    "                if paths[node][-1] == node:\n",
    "                    paths[node] = paths[current]\n",
    "        \n",
    "#shortest_path(my_graph, 'A')"
   ]
  },
  {
   "cell_type": "code",
   "execution_count": null,
   "metadata": {},
   "outputs": [],
   "source": [
    "# Step 47\n",
    "# Step 47\n",
    "#The .extend() method, allows you to add elements from an iterable to the end of a list:\n",
    "\n",
    "#Example Code\n",
    "my_list = ['larch', 'birch']\n",
    "tree_list = ['fir', 'redwood', 'pine']\n",
    "my_list.extend(tree_list)\n",
    "print(my_list) # Output: ['larch', 'birch', 'fir', 'redwood', 'pine']\n",
    "\n",
    "# Create an else clause and use the .extend() method to add the current node path to the neighbor node path.\n",
    "\n",
    "# Step 48\n",
    "# Finally, below the else clause, append the neighbor node to its path.\n",
    "\n",
    "# Step 49\n",
    "# The .remove() method removes from a list the first matching element that is passed as the argument:\n",
    "\n",
    "#Example Code:\n",
    "my_list = ['larch', 1, True, 1]\n",
    "my_list.remove(1)\n",
    "print(my_list) # Output: ['larch', True, 1]\n",
    "\n",
    "# Terminate the while loop by removing the current node from the unvisited list. Pay attention to the indentation.\n",
    "\n",
    "# Step 50\n",
    "# If you try to uncomment your function call, it won't work. You have a couple of bugs to fix. The first one happens because in the nested if you are trying to access an element that might not exist in your paths[node] list. So, you need to be sure that paths[node] is not empty before accessing paths[node][-1].\n",
    "\n",
    "# Add an additional condition to your nested if statement to ensure that paths[node] is non-empty before accessing paths[node][-1].\n",
    "\n",
    "# Step 52\n",
    "#The other bug is subtle. When a shorter distance is found for a neighbor node, paths[current] gets assigned to the neighbor node path, paths[node].\n",
    "\n",
    "#This means both variables point to the same list. Since lists are mutable, when you append the neighbor node to its path, both paths[node] and paths[current] are modified because they are the same list. This results in wrong paths, although the distances are correct.\n",
    "\n",
    "#You can fix that bug by assigning a copy of paths[current] to the neighbor node path. For that you can use the slice syntax:\n",
    "\n",
    "#Example Code:\n",
    "\n",
    "my_list[:]\n",
    "\n",
    "# Where my_list is the list you want to copy. Modify the existing paths[node] = paths[current] assignment inside your if block by slicing paths[current].\n",
    "\n",
    "# Step 53\n",
    "#The algorithm is complete but you can improve the output. Also, you can provide the function with an additional argument to return only the path between two nodes.\n",
    "\n",
    "# Add target as the third parameter to your function declaration and give it the default value of an empty string.\n",
    "\n"
   ]
  },
  {
   "cell_type": "code",
   "execution_count": 6,
   "metadata": {},
   "outputs": [
    {
     "name": "stdout",
     "output_type": "stream",
     "text": [
      "Unvisited: ['A', 'B', 'C', 'D']\n",
      "Distances: {'A': 0, 'B': inf, 'C': inf, 'D': inf}\n",
      "Paths: {'A': ['A'], 'B': [], 'C': [], 'D': []}\n"
     ]
    }
   ],
   "source": [
    "my_graph = {\n",
    "    'A': [('B', 3), ('D', 1)],\n",
    "    'B': [('A', 3), ('C', 4)],\n",
    "    'C': [('B', 4), ('D', 7)],\n",
    "    'D': [('A', 1), ('C', 7)]\n",
    "}\n",
    "def shortest_path(graph, start):\n",
    "    unvisited = list(graph)\n",
    "    distances = {node: 0 if node == start else float('inf') for node in graph}\n",
    "    paths = {node: [] for node in graph}\n",
    "    paths[start].append(start)\n",
    "    print(f'Unvisited: {unvisited}\\nDistances: {distances}\\nPaths: {paths}')\n",
    "    \n",
    "    while unvisited:\n",
    "        current = min(unvisited, key=distances.get)\n",
    "        for node, distance in graph[current]:\n",
    "            if distance + distances[current] < distances[node]:\n",
    "                distances[node] = distance + distances[current]\n",
    "                if paths[node] and paths[node][-1] == node:\n",
    "                    paths[node] = paths[current]\n",
    "                else:\n",
    "                    paths[node].extend(paths[current])\n",
    "                paths[node].append(node)\n",
    "        unvisited.remove(current)\n",
    "\n",
    "shortest_path(my_graph, 'A')"
   ]
  },
  {
   "cell_type": "code",
   "execution_count": null,
   "metadata": {},
   "outputs": [],
   "source": [
    "# Step 54\n",
    "#Python provides a concise way to write if/else conditionals by using the ternary syntax:\n",
    "\n",
    "#Example Code\n",
    "- val_1 if condition else val_2\n",
    "#The expression above evaluates to val_1 if condition is true, otherwise to val_2.\n",
    "\n",
    "#Delete your print call and create a variable called targets_to_print after your while loop. Use the ternary syntax to assign it [target] when target is truthy, and graph otherwise.\n",
    "\n",
    "# Step 55\n",
    "#Create a for loop to iterate over targets_to_print and print the following f-string: f'\\n{start}-{node} distance: {distances[node]}\\nPath: {\" -> \".join(paths[node])}'.\n",
    "\n",
    "#Step 56\n",
    "#Now it's better but you don't want to print the details about the starting node.\n",
    "\n",
    "#Before the print call, add an if statement to execute when node is equal to start and use the continue keyword to go to the next loop iteration."
   ]
  },
  {
   "cell_type": "code",
   "execution_count": 5,
   "metadata": {},
   "outputs": [
    {
     "name": "stdout",
     "output_type": "stream",
     "text": [
      "\n",
      "A-B distance: 3\n",
      "Path: A -> B -> C\n",
      "\n",
      "A-C distance: 7\n",
      "Path: A -> B -> C\n",
      "\n",
      "A-D distance: 1\n",
      "Path: A -> D\n"
     ]
    }
   ],
   "source": [
    "my_graph = {\n",
    "    'A': [('B', 3), ('D', 1)],\n",
    "    'B': [('A', 3), ('C', 4)],\n",
    "    'C': [('B', 4), ('D', 7)],\n",
    "    'D': [('A', 1), ('C', 7)]\n",
    "}\n",
    "def shortest_path(graph, start, target=''):\n",
    "    unvisited = list(graph)\n",
    "    distances = {node: 0 if node == start else float('inf') for node in graph}\n",
    "    paths = {node: [] for node in graph}\n",
    "    paths[start].append(start)\n",
    "    \n",
    "    \n",
    "    while unvisited:\n",
    "        current = min(unvisited, key=distances.get)\n",
    "        for node, distance in graph[current]:\n",
    "            if distance + distances[current] < distances[node]:\n",
    "                distances[node] = distance + distances[current]\n",
    "                if paths[node] and paths[node][-1] == node:\n",
    "                    paths[node] = paths[current]\n",
    "                else:\n",
    "                    paths[node].extend(paths[current])\n",
    "                paths[node].append(node)\n",
    "        unvisited.remove(current)\n",
    "    targets_to_print = [target] if target else graph\n",
    "    for node in targets_to_print:\n",
    "        if node == start:\n",
    "            continue\n",
    "        print(f'\\n{start}-{node} distance: {distances[node]}\\nPath: {\" -> \".join(paths[node])}')\n",
    "shortest_path(my_graph, 'A')\n",
    "\n",
    "\n"
   ]
  }
 ],
 "metadata": {
  "kernelspec": {
   "display_name": "venv_pandas",
   "language": "python",
   "name": "python3"
  },
  "language_info": {
   "codemirror_mode": {
    "name": "ipython",
    "version": 3
   },
   "file_extension": ".py",
   "mimetype": "text/x-python",
   "name": "python",
   "nbconvert_exporter": "python",
   "pygments_lexer": "ipython3",
   "version": "3.12.8"
  }
 },
 "nbformat": 4,
 "nbformat_minor": 2
}
